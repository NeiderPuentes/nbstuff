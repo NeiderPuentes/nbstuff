{
 "cells": [
  {
   "cell_type": "code",
   "execution_count": null,
   "metadata": {
    "collapsed": true
   },
   "outputs": [],
   "source": [
    "import requests\n",
    "from urllib.parse import urljoin\n",
    "from bs4 import BeautifulSoup"
   ]
  },
  {
   "cell_type": "code",
   "execution_count": null,
   "metadata": {
    "collapsed": true
   },
   "outputs": [],
   "source": [
    "# Get base page\n",
    "base_url = \"http://www.mediotiempo.com/liga/futbol/ligamx/tabla-general/\"\n",
    "base_page = requests.get(base_url).text\n",
    "base_soup = BeautifulSoup(base_page, \"lxml\")"
   ]
  },
  {
   "cell_type": "code",
   "execution_count": null,
   "metadata": {
    "collapsed": true
   },
   "outputs": [],
   "source": [
    "tournament_container = base_soup.find(\"div\", { \"class\" : \"dropdown-container\" })\n",
    "ul = tournament_container.find('ul')\n",
    "tournaments = []\n",
    "for li in ul.findAll('li'):\n",
    "    tournaments.append(li.get('value'))"
   ]
  },
  {
   "cell_type": "code",
   "execution_count": null,
   "metadata": {},
   "outputs": [],
   "source": [
    "# Get tables\n",
    "c = { 'Team': 0, 'PTS':1, 'JJ':2, 'DG':3, 'JG':4,'JE':5, 'JP':6, 'GF': 7, 'GC': 8 }\n",
    "print(\"Tournaments\", len(tournaments))\n",
    "scraped = {}\n",
    "for tournament in tournaments:\n",
    "    results = []\n",
    "    url = urljoin(base_url, tournament)\n",
    "    tournament_page = requests.get(url).text\n",
    "    tournament_soup = BeautifulSoup(tournament_page, \"lxml\")\n",
    "    tables = tournament_soup.findAll(\"div\", { \"class\" :'table-positions' })\n",
    "    for table in tables:\n",
    "        # need to find the table inside div.scroll:\n",
    "        table = table.find('div', {'class':'scroll'}).find('table', {'class':'mt-table'})\n",
    "        rows = table.tbody.findAll('tr')\n",
    "        for row in rows:\n",
    "            tds = row.findAll('td')\n",
    "            team = tds[c['Team']].text.strip()\n",
    "            pts =  tds[c['PTS']].text.strip()\n",
    "            jj =  tds[c['JJ']].text.strip()\n",
    "            dg =  tds[c['DG']].text.strip()\n",
    "            jg =  tds[c['JG']].text.strip()\n",
    "            je =  tds[c['JE']].text.strip()\n",
    "            jp =  tds[c['JP']].text.strip()\n",
    "            gf =  tds[c['GF']].text.strip()\n",
    "            gc =  tds[c['GC']].text.strip()\n",
    "            team_stat = {\n",
    "                'team':team,\n",
    "                'pts':pts,\n",
    "                'jj':jj,\n",
    "                'dg':dg,\n",
    "                'jg':jg,\n",
    "                'je':je,\n",
    "                'jp':jp,\n",
    "                'gf':gf,\n",
    "                'gc':gc\n",
    "            }\n",
    "            results.append(team_stat)\n",
    "    scraped[tournament] = results"
   ]
  },
  {
   "cell_type": "code",
   "execution_count": null,
   "metadata": {},
   "outputs": [],
   "source": [
    "for torneo in scraped:\n",
    "    print(torneo)"
   ]
  },
  {
   "cell_type": "code",
   "execution_count": null,
   "metadata": {
    "collapsed": true
   },
   "outputs": [],
   "source": []
  }
 ],
 "metadata": {
  "kernelspec": {
   "display_name": "Python 3",
   "language": "python",
   "name": "python3"
  },
  "language_info": {
   "codemirror_mode": {
    "name": "ipython",
    "version": 3
   },
   "file_extension": ".py",
   "mimetype": "text/x-python",
   "name": "python",
   "nbconvert_exporter": "python",
   "pygments_lexer": "ipython3",
   "version": "3.6.2"
  }
 },
 "nbformat": 4,
 "nbformat_minor": 2
}
