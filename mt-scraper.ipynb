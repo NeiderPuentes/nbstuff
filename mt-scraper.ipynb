{
 "cells": [
  {
   "cell_type": "code",
   "execution_count": 62,
   "metadata": {
    "collapsed": true
   },
   "outputs": [],
   "source": [
    "import requests\n",
    "import re\n",
    "import pandas as pd\n",
    "from urllib.parse import urljoin\n",
    "from bs4 import BeautifulSoup"
   ]
  },
  {
   "cell_type": "code",
   "execution_count": 2,
   "metadata": {
    "collapsed": true
   },
   "outputs": [],
   "source": [
    "# Get base page\n",
    "base_url = \"http://www.mediotiempo.com/liga/futbol/ligamx/tabla-general/\"\n",
    "base_page = requests.get(base_url).text\n",
    "base_soup = BeautifulSoup(base_page, \"lxml\")"
   ]
  },
  {
   "cell_type": "code",
   "execution_count": 3,
   "metadata": {
    "collapsed": true
   },
   "outputs": [],
   "source": [
    "tournament_container = base_soup.find(\"div\", { \"class\" : \"dropdown-container\" })\n",
    "ul = tournament_container.find('ul')\n",
    "tournaments = []\n",
    "for li in ul.findAll('li'):\n",
    "    tournaments.append(li.get('value'))"
   ]
  },
  {
   "cell_type": "code",
   "execution_count": 4,
   "metadata": {},
   "outputs": [
    {
     "name": "stdout",
     "output_type": "stream",
     "text": [
      "Tournaments 69\n"
     ]
    }
   ],
   "source": [
    "# Get tables\n",
    "c = { 'Team': 0, 'PTS':1, 'JJ':2, 'DG':3, 'JG':4,'JE':5, 'JP':6, 'GF': 7, 'GC': 8 }\n",
    "print(\"Tournaments\", len(tournaments))\n",
    "scraped = {}\n",
    "for tournament in tournaments:\n",
    "    results = []\n",
    "    url = urljoin(base_url, tournament)\n",
    "    tournament_page = requests.get(url).text\n",
    "    tournament_soup = BeautifulSoup(tournament_page, \"lxml\")\n",
    "    tables = tournament_soup.findAll(\"div\", { \"class\" :'table-positions' })\n",
    "    for table in tables:\n",
    "        # need to find the table inside div.scroll:\n",
    "        table = table.find('div', {'class':'scroll'}).find('table', {'class':'mt-table'})\n",
    "        rows = table.tbody.findAll('tr')\n",
    "        for row in rows:\n",
    "            tds = row.findAll('td')\n",
    "            team = tds[c['Team']].text.strip()\n",
    "            pts =  tds[c['PTS']].text.strip()\n",
    "            jj =  tds[c['JJ']].text.strip()\n",
    "            dg =  tds[c['DG']].text.strip()\n",
    "            jg =  tds[c['JG']].text.strip()\n",
    "            je =  tds[c['JE']].text.strip()\n",
    "            jp =  tds[c['JP']].text.strip()\n",
    "            gf =  tds[c['GF']].text.strip()\n",
    "            gc =  tds[c['GC']].text.strip()\n",
    "            team_stat = {\n",
    "                'team':team,\n",
    "                'pts':pts,\n",
    "                'jj':jj,\n",
    "                'dg':dg,\n",
    "                'jg':jg,\n",
    "                'je':je,\n",
    "                'jp':jp,\n",
    "                'gf':gf,\n",
    "                'gc':gc\n",
    "            }\n",
    "            results.append(team_stat)\n",
    "    scraped[tournament] = results"
   ]
  },
  {
   "cell_type": "code",
   "execution_count": 46,
   "metadata": {
    "collapsed": true
   },
   "outputs": [],
   "source": [
    "torneo_largo = re.compile('(\\w+)-([0-9]{4})-+([0-9]{4})')\n",
    "torneo_corto = re.compile('(\\w+)-([0-9]{4})')"
   ]
  },
  {
   "cell_type": "code",
   "execution_count": 74,
   "metadata": {
    "scrolled": false
   },
   "outputs": [
    {
     "name": "stdout",
     "output_type": "stream",
     "text": [
      "                        team pts  jj  dg  jg  je  jp  gf  gc\n",
      "id                                                          \n",
      "temporada-1975-1976    Pumas  61  38  21  15  16   7  56  35\n",
      "temporada-1975-1976     León  61  38  17  15  16   7  49  32\n",
      "temporada-1975-1976   Toluca  54  38   8  13  15  10  44  36\n",
      "temporada-1975-1976   Laguna  51  38   7  11  18   9  44  37\n",
      "temporada-1975-1976  Jalisco  44  38  -1  10  14  14  58  59\n"
     ]
    }
   ],
   "source": [
    "dos = set(['invierno', 'apertura'])\n",
    "uno = set(['verano', 'clausura', 'bicentenario'])\n",
    "intermediate = []\n",
    "for torneo in scraped:\n",
    "    match_torneo_largo = torneo_largo.search(torneo)\n",
    "    match_torneo_corto = torneo_corto.search(torneo)\n",
    "    name = ''\n",
    "    if match_torneo_largo:\n",
    "        t = match_torneo_largo.group(1)\n",
    "        inicio = int(match_torneo_largo.group(2).upper())\n",
    "        fin = int(match_torneo_largo.group(3).upper())\n",
    "        if t == \"temporada\":\n",
    "            name = \"Temporada de \" + str(inicio) + \" a \"+ str(fin)\n",
    "        if t == \"liguilla\":\n",
    "            name = \"Liguilla de \" + str(inicio) + \" a \"+ str(fin)\n",
    "    elif match_torneo_corto:\n",
    "        t = match_torneo_corto.group(1)\n",
    "        c = int(match_torneo_corto.group(2).upper())\n",
    "        if t in dos:\n",
    "            name = \"Torneo corto \" + str(c)  + \"-2\"\n",
    "        if t in uno:\n",
    "            name = \"Torneo corto \" + str(c)  + \"-1\"\n",
    "    for result in scraped[torneo]:\n",
    "        intermediate.append([\n",
    "            torneo,\n",
    "            result['team'],\n",
    "            result['pts'],\n",
    "            result['jj'],\n",
    "            result['dg'],\n",
    "            result['jg'],\n",
    "            result['je'],\n",
    "            result['jp'],\n",
    "            result['gf'],\n",
    "            result['gc']\n",
    "        ])\n",
    "tournament_df = pd.DataFrame(intermediate)\n",
    "tournament_df.columns = ['id', 'team', 'pts', 'jj', 'dg', 'jg','je', 'jp', 'gf', 'gc']\n",
    "tournament_df.set_index('id', inplace=True)\n",
    "print(tournament_df.tail())"
   ]
  },
  {
   "cell_type": "code",
   "execution_count": 73,
   "metadata": {
    "collapsed": true
   },
   "outputs": [],
   "source": [
    "tournament_df.to_csv('mt-scraper/tournaments.csv')"
   ]
  },
  {
   "cell_type": "code",
   "execution_count": null,
   "metadata": {
    "collapsed": true
   },
   "outputs": [],
   "source": []
  }
 ],
 "metadata": {
  "kernelspec": {
   "display_name": "Python 3",
   "language": "python",
   "name": "python3"
  },
  "language_info": {
   "codemirror_mode": {
    "name": "ipython",
    "version": 3
   },
   "file_extension": ".py",
   "mimetype": "text/x-python",
   "name": "python",
   "nbconvert_exporter": "python",
   "pygments_lexer": "ipython3",
   "version": "3.6.1"
  }
 },
 "nbformat": 4,
 "nbformat_minor": 2
}
