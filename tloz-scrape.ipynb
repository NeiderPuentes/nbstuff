{
 "cells": [
  {
   "cell_type": "code",
   "execution_count": null,
   "metadata": {
    "collapsed": true
   },
   "outputs": [],
   "source": [
    "import os\n",
    "import requests\n",
    "import json\n",
    "import re\n",
    "import pandas as pd\n",
    "import matplotlib.pyplot as plt\n",
    "from os.path import join\n",
    "from slugify import slugify\n",
    "from bs4 import BeautifulSoup\n",
    "from bs4.element import NavigableString\n",
    "\n",
    "base_dir = \"tloz-scrape\"\n",
    "if not os.path.exists(base_dir):\n",
    "    os.makedirs(base_dir)"
   ]
  },
  {
   "cell_type": "code",
   "execution_count": null,
   "metadata": {
    "collapsed": true
   },
   "outputs": [],
   "source": [
    "base_url = \"http://zelda.wikia.com\"\n",
    "characters = base_url + \"/wiki/The_Legend_of_Zelda_recurring_characters\"\n",
    "recurring_characters = BeautifulSoup(requests.get(characters).text, \"lxml\")"
   ]
  },
  {
   "cell_type": "code",
   "execution_count": null,
   "metadata": {},
   "outputs": [],
   "source": [
    "mw_content_text = recurring_characters.find('div', {\"id\":\"mw-content-text\"})\n",
    "\n",
    "attributes = set()\n",
    "characters = []\n",
    "\n",
    "for character_li in mw_content_text.findAll('li'):\n",
    "    a = character_li.find('a')\n",
    "    character_page = BeautifulSoup(requests.get(base_url + a['href']).text, \"lxml\")\n",
    "    aside = character_page.find('aside')\n",
    "    if aside is None:\n",
    "        continue\n",
    "    pi_datas = aside.findAll('div', {'class':'pi-item'}, recursive=False)\n",
    "    character = {\n",
    "        'name': a.text.strip()\n",
    "    }\n",
    "    for pi_data in pi_datas:\n",
    "        if isinstance(pi_data, NavigableString):\n",
    "            continue\n",
    "        label = pi_data.find('h3').text.strip()\n",
    "        value = pi_data.find('div', {\"class\":\"pi-data-value\"})\n",
    "        attributes.add(label)\n",
    "        if \"Appears in\" == label:\n",
    "            i = value.findAll('i')\n",
    "            character[slugify(label, separator=\"_\")] = [ap.text.strip() for ap in i]\n",
    "        elif \"Title(s)\" == label:\n",
    "            character[slugify(label, separator=\"_\")] = [ap.string.strip() \n",
    "                                                        for ap \n",
    "                                                        in value.descendants \n",
    "                                                        if ap.name == None]\n",
    "        elif \"Homeland\" == label or \"Race\" == label or \"Hometown\" == label or \"Location(s)\" == label:\n",
    "            character[slugify(label, separator=\"_\")] = []\n",
    "            game_name = ''\n",
    "            for element in value.descendants:\n",
    "                if element.name == \"u\":\n",
    "                    game_name = element.text.strip()\n",
    "                elif element.name == \"a\":\n",
    "                    if game_name == '': # Solo tiene una aparición\n",
    "                        game_name = 'ORIGINAL'\n",
    "                    character[slugify(label, separator=\"_\")].append({'game': game_name,\n",
    "                                                                     'value': element.text.strip()})\n",
    "        else:\n",
    "            character[slugify(label, separator=\"_\")] = value.text.strip()\n",
    "    characters.append(character)\n",
    "    \n",
    "with open(join(base_dir,'data.txt'), 'w') as outfile:\n",
    "    json.dump(characters, outfile, indent=4)"
   ]
  },
  {
   "cell_type": "code",
   "execution_count": null,
   "metadata": {},
   "outputs": [],
   "source": [
    "with open(join(base_dir,'data.txt')) as json_data:\n",
    "    characters = json.load(json_data)\n",
    "\n",
    "attributes = set()\n",
    "for c in characters:\n",
    "    attributes.update(c.keys())\n",
    "attributes.remove('name')\n",
    "attributes = list(attributes)\n",
    "\n",
    "print(\"Different attributes:\", attributes)"
   ]
  },
  {
   "cell_type": "code",
   "execution_count": null,
   "metadata": {},
   "outputs": [],
   "source": [
    "fa_regex = re.compile('([\\w\\s\\'&]+)\\(([0-9]{4})\\)')\n",
    "different_games = set()\n",
    "name, first_game, first_year, gender = [], [], [], []\n",
    "\n",
    "for c in characters:\n",
    "    match = fa_regex.search(c['first_appearance'])\n",
    "    if match:\n",
    "        different_games.add(match.group(1).strip())\n",
    "        \n",
    "        first_game.append(match.group(1).strip())\n",
    "        first_year.append(int(match.group(2)))\n",
    "        name.append(c['name'])\n",
    "        \n",
    "        if 'gender' in c:\n",
    "            gender.append(c['gender'])\n",
    "        else:\n",
    "            gender.append('')\n",
    "        \n",
    "characters_initial_df = pd.DataFrame({'name': name,\n",
    "                                      'gender': gender,\n",
    "                                      'first_game': first_game,\n",
    "                                      'first_year': first_year\n",
    "                             })"
   ]
  },
  {
   "cell_type": "code",
   "execution_count": null,
   "metadata": {},
   "outputs": [],
   "source": [
    "characters_initial_df.to_csv(join(base_dir,'characters_initial.csv'))\n",
    "characters_initial_df.head()"
   ]
  },
  {
   "cell_type": "code",
   "execution_count": null,
   "metadata": {
    "collapsed": true
   },
   "outputs": [],
   "source": []
  }
 ],
 "metadata": {
  "kernelspec": {
   "display_name": "Python 3",
   "language": "python",
   "name": "python3"
  },
  "language_info": {
   "codemirror_mode": {
    "name": "ipython",
    "version": 3
   },
   "file_extension": ".py",
   "mimetype": "text/x-python",
   "name": "python",
   "nbconvert_exporter": "python",
   "pygments_lexer": "ipython3",
   "version": "3.6.1"
  }
 },
 "nbformat": 4,
 "nbformat_minor": 2
}
