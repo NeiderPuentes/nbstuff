{
 "cells": [
  {
   "cell_type": "markdown",
   "metadata": {},
   "source": [
    "## Before coding\n",
    "\n",
    "Create a new project\n",
    "\n",
    "https://console.developers.google.com/projectcreate\n",
    "\n",
    "Once you have created the project, enable access to the YouTube Data API\n",
    "\n",
    "https://console.developers.google.com/apis/library\n",
    "\n",
    "Once enabled, it is important that you get credentials for your project\n",
    "\n",
    "https://console.developers.google.com/apis/credentials/wizard?api=youtube.googleapis.com\n",
    "\n",
    "From the options select:  \n",
    "\n",
    "| Option  | Value |\n",
    "| ------------- | ------------- |\n",
    "| ¿Qué API estás usando?  | **YouTube Data API v3**  |\n",
    "| ¿Desde dónde llamarás a la API? | **Servidor Web**  |\n",
    "| ¿A qué tipo de datos accederás? | **Datos públicos**  |  \n",
    "\n",
    "Having selected such values, press: **\"¿Qué credenciales necesito?\"**  and you will be given an alphanumeric string that is your API key, place this value into the `api_key` variable:"
   ]
  },
  {
   "cell_type": "code",
   "execution_count": null,
   "metadata": {
    "collapsed": true
   },
   "outputs": [],
   "source": [
    "api_key = \"\""
   ]
  },
  {
   "cell_type": "markdown",
   "metadata": {},
   "source": [
    "## Now, coding\n",
    "\n",
    "Import the necessary packages"
   ]
  },
  {
   "cell_type": "code",
   "execution_count": null,
   "metadata": {
    "collapsed": true
   },
   "outputs": [],
   "source": [
    "import requests\n",
    "import json\n",
    "import urllib\n",
    "from bs4 import BeautifulSoup\n",
    "from urllib.parse import urlencode\n",
    "from slugify import slugify"
   ]
  },
  {
   "cell_type": "code",
   "execution_count": null,
   "metadata": {
    "collapsed": true
   },
   "outputs": [],
   "source": [
    "search_url = \"https://www.googleapis.com/youtube/v3/search?\"\n",
    "caption_url = \"https://www.youtube.com/api/timedtext?\""
   ]
  },
  {
   "cell_type": "code",
   "execution_count": null,
   "metadata": {
    "collapsed": true
   },
   "outputs": [],
   "source": [
    "language_preferences = ['es-MX','es']\n",
    "channels = {\n",
    "    'presidencia' : 'UCfBRIj1Tq8k7-SD8PPVPJpQ',\n",
    "    'epn': 'UC4hlUPhJxEvAwW-yli8kHpw',\n",
    "    'amlo': 'UCxEgOKuI-n-WOJaNcisHvSg',\n",
    "}"
   ]
  },
  {
   "cell_type": "code",
   "execution_count": null,
   "metadata": {},
   "outputs": [],
   "source": [
    "parameters = {\n",
    "    'key': api_key,\n",
    "    'part': 'snippet',\n",
    "    'type': 'video',\n",
    "    'channelId': 'UCfBRIj1Tq8k7-SD8PPVPJpQ',\n",
    "    'maxResults': 10,\n",
    "    'order': 'relevance',\n",
    "    'q': 'discurso'\n",
    "}\n",
    "query_string = urlencode(parameters)\n",
    "print(urlencode(parameters))"
   ]
  },
  {
   "cell_type": "code",
   "execution_count": null,
   "metadata": {},
   "outputs": [],
   "source": [
    "videos = {}\n",
    "count = 0\n",
    "for channel in channels:\n",
    "    print(\"Searching for\", channel)\n",
    "    parameters['channelId'] = channels[channel]\n",
    "    videos[channel] = []\n",
    "    pages = 1\n",
    "    if 'pageToken' in parameters:\n",
    "        del(parameters['pageToken'])\n",
    "        query_string = urlencode(parameters)\n",
    "    page_token = 'FIRST TIME!'\n",
    "    while pages > 0 and len(page_token) > 0:\n",
    "#        print(query_string)\n",
    "        qurl = search_url + query_string\n",
    "        print(qurl)\n",
    "        r = requests.get(search_url + query_string)\n",
    "        result = json.loads(r.text)\n",
    "        try:\n",
    "            page_token = result[\"nextPageToken\"]\n",
    "        except:\n",
    "            page_token = ''\n",
    "        parameters['pageToken'] = page_token\n",
    "        pages = pages - 1\n",
    "        print(len(result['items']))\n",
    "        videos[channel].extend(result['items'])\n",
    "        count += len(result['items'])\n",
    "    \n",
    "print(\"Finished, found\", count)"
   ]
  },
  {
   "cell_type": "code",
   "execution_count": null,
   "metadata": {},
   "outputs": [],
   "source": [
    "vids_subs = {}\n",
    "for channel in channels:\n",
    "    vids_subs[channel] = []\n",
    "    for video in videos[channel]:\n",
    "        videoId = video['id']['videoId']\n",
    "        title = video['snippet']['title']\n",
    "        subtitles = ''\n",
    "        i = 0\n",
    "        yt = YouTube('https://www.youtube.com/watch?v=' + videoId)\n",
    "        while len(subtitles) == 0 and i < len(language_preferences):\n",
    "            lang = language_preferences[i]\n",
    "            if yt.captions.get_by_language_code(lang) is not None:\n",
    "                subtitles = yt.captions.get_by_language_code(lang).xml_captions\n",
    "            i = i + 1\n",
    "        if len(subtitles) > 0:\n",
    "            vids_subs[channel].append({'id': videoId, 'title': title, 'captions': subtitles })\n",
    "    print('Done!')"
   ]
  },
  {
   "cell_type": "code",
   "execution_count": null,
   "metadata": {
    "collapsed": true
   },
   "outputs": [],
   "source": [
    "for channel in channels:\n",
    "    for subs in vids_subs[channel]:\n",
    "        soup = BeautifulSoup(subs['captions'], \"lxml\")\n",
    "        texts = soup.find_all('text')\n",
    "        sub_entries = []\n",
    "        for text in texts:\n",
    "            sub_entry = {\n",
    "                'duration': text.get('dur'),\n",
    "                'start': text.get('start'),\n",
    "                'content': text.string\n",
    "            }\n",
    "            sub_entries.append(sub_entry)\n",
    "        del(subs['captions'])\n",
    "        subs['captions_parsed'] = sub_entries"
   ]
  },
  {
   "cell_type": "code",
   "execution_count": null,
   "metadata": {},
   "outputs": [],
   "source": [
    "# Save all the good stuff:\n",
    "import os\n",
    "from os.path import join\n",
    "\n",
    "\n",
    "base_dir = 'youtube-captions'\n",
    "for channel in channels:\n",
    "    directory = join(base_dir, slugify(channel))\n",
    "    if not os.path.exists(directory):\n",
    "        os.makedirs(directory)\n",
    "\n",
    "    print(\"Saving to\", directory)\n",
    "    for vid in vids_subs[channel]:\n",
    "        file_path = join(directory, slugify(vid['title']) + '.json')\n",
    "        with open(file_path, 'w') as outfile:\n",
    "            json.dump(vid, outfile)\n",
    "print(\"Done!\")"
   ]
  },
  {
   "cell_type": "code",
   "execution_count": null,
   "metadata": {
    "collapsed": true
   },
   "outputs": [],
   "source": []
  },
  {
   "cell_type": "code",
   "execution_count": null,
   "metadata": {
    "collapsed": true
   },
   "outputs": [],
   "source": []
  }
 ],
 "metadata": {
  "kernelspec": {
   "display_name": "Python 3",
   "language": "python",
   "name": "python3"
  },
  "language_info": {
   "codemirror_mode": {
    "name": "ipython",
    "version": 3
   },
   "file_extension": ".py",
   "mimetype": "text/x-python",
   "name": "python",
   "nbconvert_exporter": "python",
   "pygments_lexer": "ipython3",
   "version": "3.6.1"
  }
 },
 "nbformat": 4,
 "nbformat_minor": 2
}
