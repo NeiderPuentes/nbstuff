{
 "cells": [
  {
   "cell_type": "code",
   "execution_count": null,
   "metadata": {
    "collapsed": true
   },
   "outputs": [],
   "source": [
    "import os\n",
    "import requests\n",
    "import json\n",
    "import re\n",
    "import pandas as pd\n",
    "import matplotlib.pyplot as plt\n",
    "from bs4 import BeautifulSoup\n",
    "\n",
    "base_dir = \"partiallyd-scrape\"\n",
    "if not os.path.exists(base_dir):\n",
    "    os.makedirs(base_dir)"
   ]
  },
  {
   "cell_type": "code",
   "execution_count": null,
   "metadata": {
    "collapsed": true
   },
   "outputs": [],
   "source": [
    "url = \"http://partiallyderivative.com/podcast/\"\n",
    "podcast_page = BeautifulSoup(requests.get(url).text, \"lxml\")"
   ]
  },
  {
   "cell_type": "code",
   "execution_count": null,
   "metadata": {
    "collapsed": true
   },
   "outputs": [],
   "source": [
    "raw_urls = []\n",
    "raw_titles = []\n",
    "raw_dates = []\n",
    "\n",
    "post_list = podcast_page.find('ul', {'class':'post-list'})\n",
    "for li in post_list.findAll('li'):\n",
    "    link = li.find('a')\n",
    "    span = li.find('span')\n",
    "    raw_dates.append(span.text)\n",
    "    raw_urls.append(link['href'])\n",
    "    name = li.text[:-len(span.text)]\n",
    "    raw_titles.append(name)"
   ]
  },
  {
   "cell_type": "code",
   "execution_count": null,
   "metadata": {},
   "outputs": [],
   "source": [
    "links = { }\n",
    "for raw_url in raw_urls:\n",
    "    podcast_article = BeautifulSoup(requests.get(raw_url).text, \"lxml\")\n",
    "    ol = podcast_article.find('ol')\n",
    "    links[raw_url] = []\n",
    "    if ol is None:\n",
    "        continue\n",
    "    for li in ol.findAll('li'):\n",
    "        a = li.find('a')\n",
    "        try:\n",
    "            links[raw_url].append([a.text, a['href']])\n",
    "        except:\n",
    "            print(raw_url)"
   ]
  },
  {
   "cell_type": "code",
   "execution_count": null,
   "metadata": {},
   "outputs": [],
   "source": [
    "reg = re.compile('([0-9]{4})/([0-9]{2})/([0-9]{2})/([a-zA-Z0-9-_]+)')\n",
    "dates = []\n",
    "slug = []\n",
    "count = []\n",
    "\n",
    "for u in raw_urls:\n",
    "    match = reg.search(u)\n",
    "    if match:\n",
    "        day = int(match.group(3))\n",
    "        month = int(match.group(2))\n",
    "        year = int(match.group(1))\n",
    "        dt_str = \"%04d-%02d-%02d\" % (year,month,day)\n",
    "        try:\n",
    "            slug.append(match.group(4))\n",
    "            dates.append(pd.to_datetime(dt_str))\n",
    "            count.append(len(links[u]))\n",
    "        except:\n",
    "            print(dt_str)\n",
    "podcasts_df = pd.DataFrame({\n",
    "    'id': slug,\n",
    "    'date': dates,\n",
    "    'count': count\n",
    "})\n",
    "\n",
    "podcasts_df = podcasts_df.set_index('date')\n",
    "\n",
    "print(podcasts_df.head())\n",
    "podcasts_df.to_csv(\"partiallyd-scrape/podcasts.csv\")"
   ]
  },
  {
   "cell_type": "code",
   "execution_count": null,
   "metadata": {},
   "outputs": [],
   "source": [
    "podcasts_df.plot(figsize=(15,4))\n",
    "plt.show()"
   ]
  },
  {
   "cell_type": "code",
   "execution_count": null,
   "metadata": {},
   "outputs": [],
   "source": [
    "podcasts_w_links = podcasts_df[podcasts_df['count'] != 0]\n",
    "podcasts_w_links.plot(figsize=(15,4))\n",
    "plt.show()"
   ]
  },
  {
   "cell_type": "code",
   "execution_count": null,
   "metadata": {},
   "outputs": [],
   "source": [
    "podcasts_w_links.describe()"
   ]
  }
 ],
 "metadata": {
  "kernelspec": {
   "display_name": "Python 3",
   "language": "python",
   "name": "python3"
  },
  "language_info": {
   "codemirror_mode": {
    "name": "ipython",
    "version": 3
   },
   "file_extension": ".py",
   "mimetype": "text/x-python",
   "name": "python",
   "nbconvert_exporter": "python",
   "pygments_lexer": "ipython3",
   "version": "3.6.1"
  }
 },
 "nbformat": 4,
 "nbformat_minor": 2
}
