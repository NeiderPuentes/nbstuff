{
 "cells": [
  {
   "cell_type": "markdown",
   "metadata": {},
   "source": [
    " > This is a terrible attempt to replicate Ian's post (you can [find it here](http://www.cs.princeton.edu/~chazelle/courses/BIB/pagerank.htm)) that I made for my own understanding of the Google PageRank algorithm.\n",
    "\n",
    "# The Google Pagerank Algorithm and How It Works  \n",
    "\n",
    "Ian Rogers  \n",
    "IPR Computing Ltd.  \n",
    "ian@iprcom.com\n",
    "\n",
    "## Introduction  \n",
    "Page Rank is a topic much discussed by Search Engine Optimisation (SEO) experts. At the heart of PageRank is a mathematical formula that seems scary to look at but is actually fairly simple to understand.\n",
    "\n",
    "Despite this many people seem to get it wrong! In particular “Chris Ridings of www.searchenginesystems.net” has written a paper entitled “PageRank Explained: Everything you’ve always wanted to know about PageRank”, pointed to by many people, that contains a [fundamental mistake](http://www.iprcom.com/papers/pagerank/altered_equation.html) early on in the explanation! Unfortunately this means some of the recommendations in the paper are not quite accurate.\n",
    "\n",
    "By showing code to correctly calculate real PageRank I hope to achieve several things in this response:  \n",
    "\n",
    "\n",
    " 1. Clearly explain how PageRank is calculated.\n",
    " 2. Go through every example in Chris’ paper, and add some more of my own, showing the correct PageRank for each diagram. By showing the code used to calculate each diagram I’ve opened myself up to peer review - mostly in an effort to make sure the examples are correct, but also because the code can help explain the PageRank calculations.  \n",
    " 3. Describe some principles and observations on website design based on these correctly calculated examples.\n",
    " 4. Any good web designer should take the time to fully understand how PageRank really works - if you don’t then your site’s layout could be seriously hurting your Google listings!\n",
    "\n",
    "[Note: I have nothing in particular against Chris. If I find any other papers on the subject I’ll try to comment evenly]\n",
    "\n",
    "## How is PageRank Used?  \n",
    "PageRank is one of the methods Google uses to determine a page’s relevance or importance. It is only one part of the story when it comes to the Google listing, but the other aspects are discussed elsewhere (and are ever changing) and PageRank is interesting enough to deserve a paper of its own.  \n",
    "\n",
    "PageRank is also displayed on the toolbar of your browser if you’ve installed the Google toolbar ([http://toolbar.google.com/](http://toolbar.google.com/)). But the Toolbar PageRank only goes from 0 – 10 and seems to be something like a logarithmic scale:  \n",
    "\n",
    "| Toolbar PageRank (log base 10) | Real PageRank    |\n",
    "| ------------------------------ |:----------------:|\n",
    "| 0                              | 0 - 10           |\n",
    "| 1                              | 100 - 1,000      |\n",
    "| 2                              | 1,000 - 10,000   |\n",
    "| 3                              | 10,000 - 100,000 |\n",
    "| 4                              | and so on...     |  \n",
    "\n",
    "We can’t know the exact details of the scale because, as we’ll see later, the maximum PR of all pages on the web changes every month when Google does its re-indexing! If we presume the scale is logarithmic (although there is only anecdotal evidence for this at the time of writing) then Google could simply give the highest actual PR page a toolbar PR of 10 and scale the rest appropriately.\n",
    "\n",
    "Also the toolbar sometimes guesses! The toolbar often shows me a Toolbar PR for pages I’ve only just uploaded and cannot possibly be in the index yet!\n",
    "\n",
    "What seems to be happening is that the toolbar looks at the URL of the page the browser is displaying and strips off everything down the last “/” (i.e. it goes to the “parent” page in URL terms). If Google has a Toolbar PR for that parent then it subtracts 1 and shows that as the Toolbar PR for this page. If there’s no PR for the parent it goes to the parent’s parent’s page, but subtracting 2, and so on all the way up to the root of your site.  If it can’t find a Toolbar PR to display in this way, that is if it doesn’t find a page with a real calculated PR, then the bar is greyed out.\n",
    "\n",
    "Note that if the Toolbar is guessing in this way, the Actual PR of the page is 0 - though its PR will be calculated shortly after the Google spider first sees it.\n",
    "\n",
    "PageRank says nothing about the content or size of a page, the language it’s written in, or the text used in the anchor of a link!\n",
    "\n",
    "## Definitions  \n",
    "I’ve started to use some technical terms and shorthand in this paper. Now’s as good a time as any to define all the terms I’ll use:  \n",
    "\n",
    " - $PR$: Shorthand for PageRank: the actual, real, page rank for each page as calculated by Google. As we’ll see later this can range from 0.15 to billions.  \n",
    " - Toolbar $PR$: The PageRank displayed in the Google toolbar in your browser. This ranges from 0 to 10.\n",
    " - Backlink: If page A links out to page B, then page B is said to have a “backlink” from page A.  \n",
    " \n",
    "## So what is PageRank?  \n",
    "In short PageRank is a “vote”, by all the other pages on the Web, about how important a page is. A link to a page counts as a vote of support. If there’s no link there’s no support (but it’s an abstention from voting rather than a vote against the page).\n",
    "\n",
    "Quoting from the original Google paper, PageRank is defined like this:\n",
    "\n",
    " > We assume page $A$ has pages $T_1 ...T_n$ which point to it (i.e., are citations). The parameter d is a damping factor which can be set between $0$ and $1$. We usually set d to $0.85$. There are more details about $d$ in the next section. Also $C(A)$ is defined as the number of links going out of page $A$. The PageRank of a page $A$ is given as follows:\n",
    "\n",
    " > $PR(A) = (1-d) + d (PR(T_1)/C(T_1) + ... + PR(T_n)/C(T_n))$\n",
    "\n",
    " > Note that the PageRanks form a probability distribution over web pages, so the sum of all web pages' PageRanks will be one.\n",
    "\n",
    " > PageRank or $PR(A)$ can be calculated using a simple iterative algorithm, and corresponds to the principal eigenvector of the normalized link matrix of the web.\n",
    "\n",
    "but that’s not too helpful so let’s break it down into sections.  \n",
    "\n",
    " 1. $PR(T_n)$ - Each page has a notion of its own self-importance. That’s “$PR(T_1)$” for the first page in the web all the way up to “$PR(T_n)$” for the last page\n",
    " 2. $C(T_n)$ - Each page spreads its vote out evenly amongst all of it’s outgoing links. The count, or number, of outgoing links for page $1$ is “$C(T1)$”, “$C(Tn)$” for page $n$, and so on for all pages.  \n",
    " 3. $PR(T_n)/C(T_n)$ - so if our page (page $A$) has a backlink from page “$n$” the share of the vote page $A$ will get is “$PR(T_n)/C(T_n)$”  \n",
    " 4. $d(...$ - All these fractions of votes are added together but, to stop the other pages having too much influence, this total vote is “damped down” by multiplying it by $0.85$ (the factor “$d$”)\n",
    " 5. $(1 - d)$ - The $(1 – d)$ bit at the beginning is a bit of probability math magic so the “sum of all web pages' PageRanks will be one”: it adds in the bit lost by the d(.... It also means that if a page has no links to it (no backlinks) even then it will still get a small PR of $0.15$ (i.e. $1 – 0.85$). (Aside: the Google paper says “the sum of all pages” but they mean the “the normalised sum” – otherwise known as “the average” to you and me. "
   ]
  },
  {
   "cell_type": "code",
   "execution_count": 1,
   "metadata": {
    "collapsed": true
   },
   "outputs": [],
   "source": [
    "from graphviz import Source\n",
    "\n",
    "class PageRank:\n",
    "    def __init__(self, pages, d=0.85, initial_guess=1.0):\n",
    "        \"\"\"\n",
    "        :param pages: A graph of pages represented as linked lists\n",
    "        :param d: The dampening factor\n",
    "        :param initial_guess: The initial value for page rank\n",
    "        \"\"\"\n",
    "        self.d = d\n",
    "        self.pages = pages\n",
    "        self.inverse_pages = {}\n",
    "        self.outlinks = {}\n",
    "        self.inlinks = {}\n",
    "        self.pr = {}\n",
    "        self.all_pages = set()\n",
    "\n",
    "        for page in pages:\n",
    "            self.outlinks[page] = len(pages[page])\n",
    "            self.all_pages.add(page)\n",
    "            for out in pages[page]:\n",
    "                self.all_pages.add(out)\n",
    "                self.inlinks[out] = self.inlinks.get(out, 0) + 1\n",
    "\n",
    "                if out not in self.inverse_pages:\n",
    "                    self.inverse_pages[out] = []\n",
    "                self.inverse_pages[out].append(page)\n",
    "\n",
    "        for page in self.all_pages:\n",
    "            self.pr[page] = initial_guess\n",
    "\n",
    "    def calculate(self, iters, report=False, report_every=1, rep_function=None):\n",
    "        \"\"\"\n",
    "        Calculates the page rank of the given page graph\n",
    "        :param iters: Number of iterations\n",
    "        :param report: Wether you want the code to report every iteration to the console\n",
    "        :return:\n",
    "        \"\"\"\n",
    "        for i in range(1, iters+1):\n",
    "            pr_copy = dict(self.pr)\n",
    "            for page in self.pr:\n",
    "                self.pr[page] = 1 - self.d\n",
    "                mid = 0\n",
    "                if page in self.inverse_pages:\n",
    "                    for page_linked in self.inverse_pages[page]:\n",
    "                        mid += self.pr[page_linked] / self.outlinks[page_linked]\n",
    "                self.pr[page] += mid * self.d\n",
    "            if report:\n",
    "                if i % report_every == 0:\n",
    "                    if rep_function is not None:\n",
    "                        rep_function(i, self.pr)\n",
    "                    else:\n",
    "                        print(\"Iteration %d\" % i)\n",
    "                        print(self.pr)\n",
    "\n",
    "    def get_avg(self):\n",
    "        d = 0\n",
    "        for p in self.pr:\n",
    "            d += self.pr[p]\n",
    "        return d / len(self.pr)\n",
    "\n",
    "    def get_digraph(self, show_pr=False):\n",
    "        string_source = \"digraph G {\\n\"\n",
    "        if show_pr:\n",
    "            for page in self.pages:\n",
    "                string_source += page.replace(\" \",\"_\")+'[label=<' + page +'<BR />' + \\\n",
    "                '<FONT POINT-SIZE=\"9\">PR %.4f</FONT>>];\\n' % self.pr[page]\n",
    "            \n",
    "        for page in self.pages:\n",
    "            for out in self.pages[page]:\n",
    "                string_source += \"%s->%s\\n\" % (page.replace(\" \",\"_\"), out.replace(\" \",\"_\"))\n",
    "        string_source += \"}\"\n",
    "        return Source(string_source)\n",
    "\n",
    "\n",
    "# A small reporting function\n",
    "def report(iteration, page_rank):\n",
    "    print(\"Iteration %d\" % iteration)\n",
    "    for page in page_rank:\n",
    "        print(\"\\t%s: %0.6f\" % (page, page_rank[page]))"
   ]
  },
  {
   "cell_type": "markdown",
   "metadata": {},
   "source": [
    " \n",
    "## How is PageRank Calculated?  \n",
    "This is where it gets tricky. The PR of each page depends on the PR of the pages pointing to it. But we won’t know what PR those pages have until the pages pointing to them have their PR calculated and so on… And when you consider that page links can form circles it seems impossible to do this calculation!\n",
    "\n",
    "But actually it’s not that bad. Remember this bit of the Google paper:\n",
    "\n",
    "PageRank or $PR(A)$ can be calculated using a simple iterative algorithm, and corresponds to the principal eigenvector of the normalized link matrix of the web.\n",
    "\n",
    "What that means to us is that we can just go ahead and calculate a page’s PR without knowing the final value of the PR of the other pages. That seems strange but, basically, each time we run the calculation we’re getting a closer estimate of the final value. So all we need to do is remember the each value we calculate and repeat the calculations lots of times until the numbers stop changing much.\n",
    "\n",
    "Lets take the simplest example network: two pages, each pointing to the other:"
   ]
  },
  {
   "cell_type": "code",
   "execution_count": 2,
   "metadata": {
    "collapsed": true
   },
   "outputs": [],
   "source": [
    "pages = {\n",
    "    \"A\": [\"B\"],\n",
    "    \"B\": [\"A\"]\n",
    "}"
   ]
  },
  {
   "cell_type": "markdown",
   "metadata": {},
   "source": [
    "Each page has one outgoing link (the outgoing count is $1$, i.e. $C(A) = 1$ and $C(B) = 1$)."
   ]
  },
  {
   "cell_type": "markdown",
   "metadata": {},
   "source": [
    "### Guess 1\n",
    "\n",
    "We don’t know what their PR should be to begin with, so let’s take a guess at $1.0$ and do some calculations:\n",
    "\n",
    "$$d = 0.85$$\n",
    "\n",
    "$$PR(A) = (1 – d) + d(PR(B)/1)$$\n",
    "\n",
    "$$PR(B) = (1 – d) + d(PR(A)/1)$$\n",
    "\n",
    "i.e.\n",
    "\n",
    "$$PR(A) = 0.15 + 0.85 * 1 = 1$$  \n",
    "\n",
    "$$PR(B) = 0.15 + 0.85 * 1 = 1$$\n",
    "\n",
    "Hmm, the numbers aren’t changing at all! So it looks like we started out with a lucky guess!!!"
   ]
  },
  {
   "cell_type": "code",
   "execution_count": 3,
   "metadata": {},
   "outputs": [
    {
     "name": "stdout",
     "output_type": "stream",
     "text": [
      "Iteration 1\n",
      "\tA: 1.000000\n",
      "\tB: 1.000000\n"
     ]
    },
    {
     "data": {
      "image/svg+xml": [
       "<?xml version=\"1.0\" encoding=\"UTF-8\" standalone=\"no\"?>\r\n",
       "<!DOCTYPE svg PUBLIC \"-//W3C//DTD SVG 1.1//EN\"\r\n",
       " \"http://www.w3.org/Graphics/SVG/1.1/DTD/svg11.dtd\">\r\n",
       "<!-- Generated by graphviz version 2.38.0 (20140413.2041)\r\n",
       " -->\r\n",
       "<!-- Title: G Pages: 1 -->\r\n",
       "<svg width=\"86pt\" height=\"132pt\"\r\n",
       " viewBox=\"0.00 0.00 85.78 131.68\" xmlns=\"http://www.w3.org/2000/svg\" xmlns:xlink=\"http://www.w3.org/1999/xlink\">\r\n",
       "<g id=\"graph0\" class=\"graph\" transform=\"scale(1 1) rotate(0) translate(4 127.681)\">\r\n",
       "<title>G</title>\r\n",
       "<polygon fill=\"white\" stroke=\"none\" points=\"-4,4 -4,-127.681 81.7817,-127.681 81.7817,4 -4,4\"/>\r\n",
       "<!-- A -->\r\n",
       "<g id=\"node1\" class=\"node\"><title>A</title>\r\n",
       "<ellipse fill=\"none\" stroke=\"black\" cx=\"38.8909\" cy=\"-101.761\" rx=\"38.7821\" ry=\"21.8409\"/>\r\n",
       "<text text-anchor=\"start\" x=\"33.8909\" y=\"-103.061\" font-family=\"Times New Roman,serif\" font-size=\"14.00\">A</text>\r\n",
       "<text text-anchor=\"start\" x=\"19.3909\" y=\"-93.0609\" font-family=\"Times New Roman,serif\" font-size=\"9.00\">PR 1.0000</text>\r\n",
       "</g>\r\n",
       "<!-- B -->\r\n",
       "<g id=\"node2\" class=\"node\"><title>B</title>\r\n",
       "<ellipse fill=\"none\" stroke=\"black\" cx=\"38.8909\" cy=\"-21.9203\" rx=\"38.7821\" ry=\"21.8409\"/>\r\n",
       "<text text-anchor=\"start\" x=\"33.8909\" y=\"-23.2203\" font-family=\"Times New Roman,serif\" font-size=\"14.00\">B</text>\r\n",
       "<text text-anchor=\"start\" x=\"19.3909\" y=\"-13.2203\" font-family=\"Times New Roman,serif\" font-size=\"9.00\">PR 1.0000</text>\r\n",
       "</g>\r\n",
       "<!-- A&#45;&gt;B -->\r\n",
       "<g id=\"edge1\" class=\"edge\"><title>A&#45;&gt;B</title>\r\n",
       "<path fill=\"none\" stroke=\"black\" d=\"M32.8334,-79.9011C32.1781,-71.961 31.9878,-62.7325 32.2627,-54.0444\"/>\r\n",
       "<polygon fill=\"black\" stroke=\"black\" points=\"35.7696,-54.0162 32.8287,-43.8377 28.7803,-53.6286 35.7696,-54.0162\"/>\r\n",
       "</g>\r\n",
       "<!-- B&#45;&gt;A -->\r\n",
       "<g id=\"edge2\" class=\"edge\"><title>B&#45;&gt;A</title>\r\n",
       "<path fill=\"none\" stroke=\"black\" d=\"M44.9531,-43.8377C45.6062,-51.784 45.7942,-61.0144 45.517,-69.6999\"/>\r\n",
       "<polygon fill=\"black\" stroke=\"black\" points=\"42.0105,-69.7217 44.9483,-79.9011 48.9996,-70.1114 42.0105,-69.7217\"/>\r\n",
       "</g>\r\n",
       "</g>\r\n",
       "</svg>\r\n"
      ],
      "text/plain": [
       "<graphviz.files.Source at 0x28ec7ef4860>"
      ]
     },
     "execution_count": 3,
     "metadata": {},
     "output_type": "execute_result"
    }
   ],
   "source": [
    "pr = PageRank(pages, initial_guess=1)\n",
    "pr.calculate(1, report=True, rep_function=report)\n",
    "pr.get_digraph(show_pr=True)"
   ]
  },
  {
   "cell_type": "markdown",
   "metadata": {},
   "source": [
    "### Guess 2\n",
    "\n",
    "No, that’s too easy, maybe I got it wrong (and it wouldn’t be the first time). Ok, let’s start the guess at 0 instead and re-calculate:\n",
    "\n",
    "$$PR(A) = 0.15 + 0.85 * 0 = 0.15$$  \n",
    "\n",
    "$$PR(B) = 0.15 + 0.85 * 0.15 = 0.2775$$\n",
    "\n",
    "NB. we’ve already calculated a “next best guess” at $PR(A)$ so we use it here\n",
    "\n",
    "And again:\n",
    "\n",
    "$$PR(A) = 0.15 + 0.85 * 0.2775 = 0.385875$$\n",
    "\n",
    "$$PR(B) = 0.15 + 0.85 * 0.385875 = 0.47799375$$\n",
    "\n",
    "And again\n",
    "\n",
    "$$PR(A) = 0.15 + 0.85 * 0.47799375 = 0.5562946875$$\n",
    "\n",
    "$$PR(B) = 0.15 + 0.85 * 0.5562946875 = 0.622850484375$$\n",
    "\n",
    "and so on. The numbers just keep going up. But will the numbers stop increasing when they get to $1.0$? What if a calculation over-shoots and goes above $1.0$?"
   ]
  },
  {
   "cell_type": "code",
   "execution_count": 4,
   "metadata": {},
   "outputs": [
    {
     "name": "stdout",
     "output_type": "stream",
     "text": [
      "Iteration 1\n",
      "\tA: 0.150000\n",
      "\tB: 0.277500\n",
      "Iteration 2\n",
      "\tA: 0.385875\n",
      "\tB: 0.477994\n",
      "Iteration 3\n",
      "\tA: 0.556295\n",
      "\tB: 0.622850\n"
     ]
    },
    {
     "data": {
      "image/svg+xml": [
       "<?xml version=\"1.0\" encoding=\"UTF-8\" standalone=\"no\"?>\r\n",
       "<!DOCTYPE svg PUBLIC \"-//W3C//DTD SVG 1.1//EN\"\r\n",
       " \"http://www.w3.org/Graphics/SVG/1.1/DTD/svg11.dtd\">\r\n",
       "<!-- Generated by graphviz version 2.38.0 (20140413.2041)\r\n",
       " -->\r\n",
       "<!-- Title: G Pages: 1 -->\r\n",
       "<svg width=\"86pt\" height=\"132pt\"\r\n",
       " viewBox=\"0.00 0.00 85.78 131.68\" xmlns=\"http://www.w3.org/2000/svg\" xmlns:xlink=\"http://www.w3.org/1999/xlink\">\r\n",
       "<g id=\"graph0\" class=\"graph\" transform=\"scale(1 1) rotate(0) translate(4 127.681)\">\r\n",
       "<title>G</title>\r\n",
       "<polygon fill=\"white\" stroke=\"none\" points=\"-4,4 -4,-127.681 81.7817,-127.681 81.7817,4 -4,4\"/>\r\n",
       "<!-- A -->\r\n",
       "<g id=\"node1\" class=\"node\"><title>A</title>\r\n",
       "<ellipse fill=\"none\" stroke=\"black\" cx=\"38.8909\" cy=\"-101.761\" rx=\"38.7821\" ry=\"21.8409\"/>\r\n",
       "<text text-anchor=\"start\" x=\"33.8909\" y=\"-103.061\" font-family=\"Times New Roman,serif\" font-size=\"14.00\">A</text>\r\n",
       "<text text-anchor=\"start\" x=\"19.3909\" y=\"-93.0609\" font-family=\"Times New Roman,serif\" font-size=\"9.00\">PR 0.5563</text>\r\n",
       "</g>\r\n",
       "<!-- B -->\r\n",
       "<g id=\"node2\" class=\"node\"><title>B</title>\r\n",
       "<ellipse fill=\"none\" stroke=\"black\" cx=\"38.8909\" cy=\"-21.9203\" rx=\"38.7821\" ry=\"21.8409\"/>\r\n",
       "<text text-anchor=\"start\" x=\"33.8909\" y=\"-23.2203\" font-family=\"Times New Roman,serif\" font-size=\"14.00\">B</text>\r\n",
       "<text text-anchor=\"start\" x=\"19.3909\" y=\"-13.2203\" font-family=\"Times New Roman,serif\" font-size=\"9.00\">PR 0.6229</text>\r\n",
       "</g>\r\n",
       "<!-- A&#45;&gt;B -->\r\n",
       "<g id=\"edge1\" class=\"edge\"><title>A&#45;&gt;B</title>\r\n",
       "<path fill=\"none\" stroke=\"black\" d=\"M32.8334,-79.9011C32.1781,-71.961 31.9878,-62.7325 32.2627,-54.0444\"/>\r\n",
       "<polygon fill=\"black\" stroke=\"black\" points=\"35.7696,-54.0162 32.8287,-43.8377 28.7803,-53.6286 35.7696,-54.0162\"/>\r\n",
       "</g>\r\n",
       "<!-- B&#45;&gt;A -->\r\n",
       "<g id=\"edge2\" class=\"edge\"><title>B&#45;&gt;A</title>\r\n",
       "<path fill=\"none\" stroke=\"black\" d=\"M44.9531,-43.8377C45.6062,-51.784 45.7942,-61.0144 45.517,-69.6999\"/>\r\n",
       "<polygon fill=\"black\" stroke=\"black\" points=\"42.0105,-69.7217 44.9483,-79.9011 48.9996,-70.1114 42.0105,-69.7217\"/>\r\n",
       "</g>\r\n",
       "</g>\r\n",
       "</svg>\r\n"
      ],
      "text/plain": [
       "<graphviz.files.Source at 0x28ec7ef4ef0>"
      ]
     },
     "execution_count": 4,
     "metadata": {},
     "output_type": "execute_result"
    }
   ],
   "source": [
    "pr = PageRank(pages, initial_guess=0)\n",
    "pr.calculate(3, report=True, rep_function=report)\n",
    "pr.get_digraph(show_pr=True)"
   ]
  },
  {
   "cell_type": "markdown",
   "metadata": {},
   "source": [
    "### Guess 3\n",
    "\n",
    "Well let’s see. Let’s start the guess at 40 each and do a few cycles:\n",
    "\n",
    "$$PR(A) = 40$$\n",
    "$$PR(B) = 40$$\n",
    "\n",
    "First calculation\n",
    "\n",
    "$$PR(A) = 0.15 + 0.85 * 40 = 34.25$$\n",
    "\n",
    "$$PR(B) = 0.15 + 0.85 * 0.385875 = 29.1775$$\n",
    "\n",
    "And again\n",
    "\n",
    "$$PR(A) = 0.15 + 0.85 * 29.1775 = 24.950875$$\n",
    "\n",
    "$$PR(B) = 0.15 + 0.85 * 24.950875 = 21.35824375$$\n",
    "\n",
    "Yup, those numbers are heading down alright! It sure looks the numbers will get to $1.0$ and stop"
   ]
  },
  {
   "cell_type": "code",
   "execution_count": 5,
   "metadata": {},
   "outputs": [
    {
     "name": "stdout",
     "output_type": "stream",
     "text": [
      "Iteration 1\n",
      "\tA: 34.150000\n",
      "\tB: 29.177500\n",
      "Iteration 2\n",
      "\tA: 24.950875\n",
      "\tB: 21.358244\n"
     ]
    },
    {
     "data": {
      "image/svg+xml": [
       "<?xml version=\"1.0\" encoding=\"UTF-8\" standalone=\"no\"?>\r\n",
       "<!DOCTYPE svg PUBLIC \"-//W3C//DTD SVG 1.1//EN\"\r\n",
       " \"http://www.w3.org/Graphics/SVG/1.1/DTD/svg11.dtd\">\r\n",
       "<!-- Generated by graphviz version 2.38.0 (20140413.2041)\r\n",
       " -->\r\n",
       "<!-- Title: G Pages: 1 -->\r\n",
       "<svg width=\"91pt\" height=\"132pt\"\r\n",
       " viewBox=\"0.00 0.00 91.44 131.68\" xmlns=\"http://www.w3.org/2000/svg\" xmlns:xlink=\"http://www.w3.org/1999/xlink\">\r\n",
       "<g id=\"graph0\" class=\"graph\" transform=\"scale(1 1) rotate(0) translate(4 127.681)\">\r\n",
       "<title>G</title>\r\n",
       "<polygon fill=\"white\" stroke=\"none\" points=\"-4,4 -4,-127.681 87.4386,-127.681 87.4386,4 -4,4\"/>\r\n",
       "<!-- A -->\r\n",
       "<g id=\"node1\" class=\"node\"><title>A</title>\r\n",
       "<ellipse fill=\"none\" stroke=\"black\" cx=\"41.7193\" cy=\"-101.761\" rx=\"41.9398\" ry=\"21.8409\"/>\r\n",
       "<text text-anchor=\"start\" x=\"36.7193\" y=\"-103.061\" font-family=\"Times New Roman,serif\" font-size=\"14.00\">A</text>\r\n",
       "<text text-anchor=\"start\" x=\"20.2193\" y=\"-93.0609\" font-family=\"Times New Roman,serif\" font-size=\"9.00\">PR 24.9509</text>\r\n",
       "</g>\r\n",
       "<!-- B -->\r\n",
       "<g id=\"node2\" class=\"node\"><title>B</title>\r\n",
       "<ellipse fill=\"none\" stroke=\"black\" cx=\"41.7193\" cy=\"-21.9203\" rx=\"41.9398\" ry=\"21.8409\"/>\r\n",
       "<text text-anchor=\"start\" x=\"36.7193\" y=\"-23.2203\" font-family=\"Times New Roman,serif\" font-size=\"14.00\">B</text>\r\n",
       "<text text-anchor=\"start\" x=\"20.2193\" y=\"-13.2203\" font-family=\"Times New Roman,serif\" font-size=\"9.00\">PR 21.3582</text>\r\n",
       "</g>\r\n",
       "<!-- A&#45;&gt;B -->\r\n",
       "<g id=\"edge1\" class=\"edge\"><title>A&#45;&gt;B</title>\r\n",
       "<path fill=\"none\" stroke=\"black\" d=\"M35.6619,-79.9011C35.0065,-71.961 34.8163,-62.7325 35.0911,-54.0444\"/>\r\n",
       "<polygon fill=\"black\" stroke=\"black\" points=\"38.598,-54.0162 35.6571,-43.8377 31.6087,-53.6286 38.598,-54.0162\"/>\r\n",
       "</g>\r\n",
       "<!-- B&#45;&gt;A -->\r\n",
       "<g id=\"edge2\" class=\"edge\"><title>B&#45;&gt;A</title>\r\n",
       "<path fill=\"none\" stroke=\"black\" d=\"M47.7815,-43.8377C48.4346,-51.784 48.6226,-61.0144 48.3455,-69.6999\"/>\r\n",
       "<polygon fill=\"black\" stroke=\"black\" points=\"44.8389,-69.7217 47.7767,-79.9011 51.828,-70.1114 44.8389,-69.7217\"/>\r\n",
       "</g>\r\n",
       "</g>\r\n",
       "</svg>\r\n"
      ],
      "text/plain": [
       "<graphviz.files.Source at 0x28ec7ef4fd0>"
      ]
     },
     "execution_count": 5,
     "metadata": {},
     "output_type": "execute_result"
    }
   ],
   "source": [
    "pr = PageRank(pages, initial_guess=40)\n",
    "pr.calculate(2, report=True, rep_function=report)\n",
    "pr.get_digraph(show_pr=True)"
   ]
  },
  {
   "cell_type": "markdown",
   "metadata": {},
   "source": [
    "Here’s the code used to calculate this example starting the guess at $0$: Show the code | Run the program\n",
    "\n",
    " - **Principle**: it doesn’t matter where you start your guess, once the PageRank calculations have settled down, the “normalized probability distribution” (the average PageRank for all pages) will be $1.0$"
   ]
  },
  {
   "cell_type": "markdown",
   "metadata": {
    "collapsed": true
   },
   "source": [
    "## Getting the answer quicker\n",
    "How many times do we need to repeat the calculation for big networks? That’s a difficult question; for a network as large as the World Wide Web it can be many millions of iterations! The “damping factor” is quite subtle. If it’s too high then it takes ages for the numbers to settle, if it’s too low then you get repeated over-shoot, both above and below the average - the numbers just swing about the average like a pendulum and never settle down.  \n",
    "\n",
    "Also choosing the order of calculations can help. The answer will always come out the same no matter which order you choose, but some orders will get you there quicker than others.  \n",
    "\n",
    "I’m sure there’s been several Master’s Thesis on how to make this calculation as efficient as possible, but, in the examples below, I’ve used very simple code for clarity and roughly 20 to 40 iterations were needed!"
   ]
  },
  {
   "cell_type": "markdown",
   "metadata": {},
   "source": [
    "### Example 1"
   ]
  },
  {
   "cell_type": "code",
   "execution_count": 6,
   "metadata": {
    "collapsed": true
   },
   "outputs": [],
   "source": [
    "pages = {\n",
    "    \"A\": [\"B\", \"C\"],\n",
    "    \"B\": [\"C\"],\n",
    "    \"C\": [\"A\"],\n",
    "    \"D\": [\"C\"],\n",
    "}"
   ]
  },
  {
   "cell_type": "markdown",
   "metadata": {},
   "source": [
    "I’m not going to repeat the calculations here, but you can see them by running the program (yes, if you click the link the program really is re-run to do the calculations for you)"
   ]
  },
  {
   "cell_type": "markdown",
   "metadata": {},
   "source": [
    "So the correct PR for the example is:"
   ]
  },
  {
   "cell_type": "code",
   "execution_count": 7,
   "metadata": {},
   "outputs": [
    {
     "name": "stdout",
     "output_type": "stream",
     "text": [
      "Iteration 10\n",
      "\tC: 1.595172\n",
      "\tA: 1.505896\n",
      "\tB: 0.790006\n",
      "\tD: 0.150000\n",
      "Iteration 20\n",
      "\tC: 1.576927\n",
      "\tA: 1.490388\n",
      "\tB: 0.783415\n",
      "\tD: 0.150000\n"
     ]
    },
    {
     "data": {
      "image/svg+xml": [
       "<?xml version=\"1.0\" encoding=\"UTF-8\" standalone=\"no\"?>\r\n",
       "<!DOCTYPE svg PUBLIC \"-//W3C//DTD SVG 1.1//EN\"\r\n",
       " \"http://www.w3.org/Graphics/SVG/1.1/DTD/svg11.dtd\">\r\n",
       "<!-- Generated by graphviz version 2.38.0 (20140413.2041)\r\n",
       " -->\r\n",
       "<!-- Title: G Pages: 1 -->\r\n",
       "<svg width=\"238pt\" height=\"212pt\"\r\n",
       " viewBox=\"0.00 0.00 237.78 211.52\" xmlns=\"http://www.w3.org/2000/svg\" xmlns:xlink=\"http://www.w3.org/1999/xlink\">\r\n",
       "<g id=\"graph0\" class=\"graph\" transform=\"scale(1 1) rotate(0) translate(4 207.522)\">\r\n",
       "<title>G</title>\r\n",
       "<polygon fill=\"white\" stroke=\"none\" points=\"-4,4 -4,-207.522 233.782,-207.522 233.782,4 -4,4\"/>\r\n",
       "<!-- A -->\r\n",
       "<g id=\"node1\" class=\"node\"><title>A</title>\r\n",
       "<ellipse fill=\"none\" stroke=\"black\" cx=\"114.891\" cy=\"-181.602\" rx=\"38.7821\" ry=\"21.8409\"/>\r\n",
       "<text text-anchor=\"start\" x=\"109.891\" y=\"-182.902\" font-family=\"Times New Roman,serif\" font-size=\"14.00\">A</text>\r\n",
       "<text text-anchor=\"start\" x=\"95.3909\" y=\"-172.902\" font-family=\"Times New Roman,serif\" font-size=\"9.00\">PR 1.4904</text>\r\n",
       "</g>\r\n",
       "<!-- B -->\r\n",
       "<g id=\"node2\" class=\"node\"><title>B</title>\r\n",
       "<ellipse fill=\"none\" stroke=\"black\" cx=\"38.8909\" cy=\"-101.761\" rx=\"38.7821\" ry=\"21.8409\"/>\r\n",
       "<text text-anchor=\"start\" x=\"33.8909\" y=\"-103.061\" font-family=\"Times New Roman,serif\" font-size=\"14.00\">B</text>\r\n",
       "<text text-anchor=\"start\" x=\"19.3909\" y=\"-93.0609\" font-family=\"Times New Roman,serif\" font-size=\"9.00\">PR 0.7834</text>\r\n",
       "</g>\r\n",
       "<!-- A&#45;&gt;B -->\r\n",
       "<g id=\"edge1\" class=\"edge\"><title>A&#45;&gt;B</title>\r\n",
       "<path fill=\"none\" stroke=\"black\" d=\"M96.8799,-162.154C87.1078,-152.146 74.8702,-139.612 64.1587,-128.641\"/>\r\n",
       "<polygon fill=\"black\" stroke=\"black\" points=\"66.5262,-126.056 57.0359,-121.345 61.5176,-130.946 66.5262,-126.056\"/>\r\n",
       "</g>\r\n",
       "<!-- C -->\r\n",
       "<g id=\"node3\" class=\"node\"><title>C</title>\r\n",
       "<ellipse fill=\"none\" stroke=\"black\" cx=\"114.891\" cy=\"-21.9203\" rx=\"38.7821\" ry=\"21.8409\"/>\r\n",
       "<text text-anchor=\"start\" x=\"109.891\" y=\"-23.2203\" font-family=\"Times New Roman,serif\" font-size=\"14.00\">C</text>\r\n",
       "<text text-anchor=\"start\" x=\"95.3909\" y=\"-13.2203\" font-family=\"Times New Roman,serif\" font-size=\"9.00\">PR 1.5769</text>\r\n",
       "</g>\r\n",
       "<!-- A&#45;&gt;C -->\r\n",
       "<g id=\"edge2\" class=\"edge\"><title>A&#45;&gt;C</title>\r\n",
       "<path fill=\"none\" stroke=\"black\" d=\"M110.131,-159.663C107.76,-132.685 107.508,-85.5481 109.375,-54.2834\"/>\r\n",
       "<polygon fill=\"black\" stroke=\"black\" points=\"112.892,-54.1725 110.123,-43.9458 105.91,-53.6668 112.892,-54.1725\"/>\r\n",
       "</g>\r\n",
       "<!-- B&#45;&gt;C -->\r\n",
       "<g id=\"edge3\" class=\"edge\"><title>B&#45;&gt;C</title>\r\n",
       "<path fill=\"none\" stroke=\"black\" d=\"M56.9018,-82.3138C66.6739,-72.305 78.9116,-59.771 89.6231,-48.8001\"/>\r\n",
       "<polygon fill=\"black\" stroke=\"black\" points=\"92.2642,-51.1051 96.7458,-41.5048 87.2555,-46.2149 92.2642,-51.1051\"/>\r\n",
       "</g>\r\n",
       "<!-- C&#45;&gt;A -->\r\n",
       "<g id=\"edge4\" class=\"edge\"><title>C&#45;&gt;A</title>\r\n",
       "<path fill=\"none\" stroke=\"black\" d=\"M119.658,-43.9458C122.025,-70.9667 122.273,-118.108 120.401,-149.339\"/>\r\n",
       "<polygon fill=\"black\" stroke=\"black\" points=\"116.885,-149.435 119.651,-159.663 123.867,-149.943 116.885,-149.435\"/>\r\n",
       "</g>\r\n",
       "<!-- D -->\r\n",
       "<g id=\"node4\" class=\"node\"><title>D</title>\r\n",
       "<ellipse fill=\"none\" stroke=\"black\" cx=\"190.891\" cy=\"-101.761\" rx=\"38.7821\" ry=\"21.8409\"/>\r\n",
       "<text text-anchor=\"start\" x=\"185.891\" y=\"-103.061\" font-family=\"Times New Roman,serif\" font-size=\"14.00\">D</text>\r\n",
       "<text text-anchor=\"start\" x=\"171.391\" y=\"-93.0609\" font-family=\"Times New Roman,serif\" font-size=\"9.00\">PR 0.1500</text>\r\n",
       "</g>\r\n",
       "<!-- D&#45;&gt;C -->\r\n",
       "<g id=\"edge5\" class=\"edge\"><title>D&#45;&gt;C</title>\r\n",
       "<path fill=\"none\" stroke=\"black\" d=\"M172.88,-82.3138C163.108,-72.305 150.87,-59.771 140.159,-48.8001\"/>\r\n",
       "<polygon fill=\"black\" stroke=\"black\" points=\"142.526,-46.2149 133.036,-41.5048 137.518,-51.1051 142.526,-46.2149\"/>\r\n",
       "</g>\r\n",
       "</g>\r\n",
       "</svg>\r\n"
      ],
      "text/plain": [
       "<graphviz.files.Source at 0x28ec7ef4da0>"
      ]
     },
     "execution_count": 7,
     "metadata": {},
     "output_type": "execute_result"
    }
   ],
   "source": [
    "pr = PageRank(pages, initial_guess=1)\n",
    "pr.calculate(20, report=True, report_every=10, rep_function=report)\n",
    "pr.get_digraph(show_pr=True)"
   ]
  },
  {
   "cell_type": "markdown",
   "metadata": {},
   "source": [
    "You can see it took about $20$ iterations before the network began to settle on these values!\n",
    "\n",
    "Look at Page D though - it has a PR of $0.15$ even though no-one is voting for it (i.e. it has no incoming links)! Is this right?\n",
    "\n",
    "The first part, or \"term\" to be techinal, of the PR equation is doing this:\n",
    "\n",
    "$$PR(A) = (1-d) + d (PR(T_1)/C(T_1) + ... + PR(T_n)/C(T_n))$$\n",
    "\n",
    "So, for Page D, no backlinks means the equation looks like this:\n",
    "\n",
    "$$PR(A) = (1-d) + d * (0) = 0.15$$\n",
    "\n",
    "no matter what else is going on or how many times you do it.\n",
    "\n",
    " - **Observation**: every page has at least a PR of 0.15 to share out. But this may only be in theory - there are rumours that Google undergoes a post-spidering phase whereby any pages that have no incoming links at all are completely deleted from the index..."
   ]
  },
  {
   "cell_type": "markdown",
   "metadata": {},
   "source": [
    "### Example 2"
   ]
  },
  {
   "cell_type": "code",
   "execution_count": 8,
   "metadata": {
    "collapsed": true
   },
   "outputs": [],
   "source": [
    "pages = {\n",
    "    \"Home\": [\"About\", \"Product\", \"Links\"],\n",
    "    \"About\": [\"Home\"],\n",
    "    \"Product\": [\"Home\"],\n",
    "    \"Links\": [\"Home\",\"External Site A\", \"External Site B\", \"External Site C\", \"External Site D\"]\n",
    "}"
   ]
  },
  {
   "cell_type": "code",
   "execution_count": 9,
   "metadata": {},
   "outputs": [
    {
     "name": "stdout",
     "output_type": "stream",
     "text": [
      "Iteration 20\n",
      "\tExternal Site B: 0.219603\n",
      "\tProduct: 0.409430\n",
      "\tAbout: 0.409430\n",
      "\tHome: 0.915634\n",
      "\tExternal Site C: 0.219603\n",
      "\tLinks: 0.409430\n",
      "\tExternal Site A: 0.219603\n",
      "\tExternal Site D: 0.219603\n",
      "Average PR: 0.378\n"
     ]
    },
    {
     "data": {
      "image/svg+xml": [
       "<?xml version=\"1.0\" encoding=\"UTF-8\" standalone=\"no\"?>\r\n",
       "<!DOCTYPE svg PUBLIC \"-//W3C//DTD SVG 1.1//EN\"\r\n",
       " \"http://www.w3.org/Graphics/SVG/1.1/DTD/svg11.dtd\">\r\n",
       "<!-- Generated by graphviz version 2.38.0 (20140413.2041)\r\n",
       " -->\r\n",
       "<!-- Title: G Pages: 1 -->\r\n",
       "<svg width=\"618pt\" height=\"204pt\"\r\n",
       " viewBox=\"0.00 0.00 618.09 203.68\" xmlns=\"http://www.w3.org/2000/svg\" xmlns:xlink=\"http://www.w3.org/1999/xlink\">\r\n",
       "<g id=\"graph0\" class=\"graph\" transform=\"scale(1 1) rotate(0) translate(4 199.681)\">\r\n",
       "<title>G</title>\r\n",
       "<polygon fill=\"white\" stroke=\"none\" points=\"-4,4 -4,-199.681 614.088,-199.681 614.088,4 -4,4\"/>\r\n",
       "<!-- Home -->\r\n",
       "<g id=\"node1\" class=\"node\"><title>Home</title>\r\n",
       "<ellipse fill=\"none\" stroke=\"black\" cx=\"204.544\" cy=\"-173.761\" rx=\"38.7821\" ry=\"21.8409\"/>\r\n",
       "<text text-anchor=\"start\" x=\"187.544\" y=\"-175.061\" font-family=\"Times New Roman,serif\" font-size=\"14.00\">Home</text>\r\n",
       "<text text-anchor=\"start\" x=\"185.044\" y=\"-165.061\" font-family=\"Times New Roman,serif\" font-size=\"9.00\">PR 0.9156</text>\r\n",
       "</g>\r\n",
       "<!-- About -->\r\n",
       "<g id=\"node2\" class=\"node\"><title>About</title>\r\n",
       "<ellipse fill=\"none\" stroke=\"black\" cx=\"103.544\" cy=\"-93.9203\" rx=\"38.7821\" ry=\"21.8409\"/>\r\n",
       "<text text-anchor=\"start\" x=\"85.5438\" y=\"-95.2203\" font-family=\"Times New Roman,serif\" font-size=\"14.00\">About</text>\r\n",
       "<text text-anchor=\"start\" x=\"84.0438\" y=\"-85.2203\" font-family=\"Times New Roman,serif\" font-size=\"9.00\">PR 0.4094</text>\r\n",
       "</g>\r\n",
       "<!-- Home&#45;&gt;About -->\r\n",
       "<g id=\"edge1\" class=\"edge\"><title>Home&#45;&gt;About</title>\r\n",
       "<path fill=\"none\" stroke=\"black\" d=\"M178.821,-157.196C163.748,-146.564 144.89,-132.243 129.749,-120.015\"/>\r\n",
       "<polygon fill=\"black\" stroke=\"black\" points=\"131.72,-117.106 121.767,-113.474 127.283,-122.52 131.72,-117.106\"/>\r\n",
       "</g>\r\n",
       "<!-- Product -->\r\n",
       "<g id=\"node3\" class=\"node\"><title>Product</title>\r\n",
       "<ellipse fill=\"none\" stroke=\"black\" cx=\"204.544\" cy=\"-93.9203\" rx=\"43.6818\" ry=\"21.8409\"/>\r\n",
       "<text text-anchor=\"start\" x=\"181.544\" y=\"-95.2203\" font-family=\"Times New Roman,serif\" font-size=\"14.00\">Product</text>\r\n",
       "<text text-anchor=\"start\" x=\"185.044\" y=\"-85.2203\" font-family=\"Times New Roman,serif\" font-size=\"9.00\">PR 0.4094</text>\r\n",
       "</g>\r\n",
       "<!-- Home&#45;&gt;Product -->\r\n",
       "<g id=\"edge2\" class=\"edge\"><title>Home&#45;&gt;Product</title>\r\n",
       "<path fill=\"none\" stroke=\"black\" d=\"M198.486,-151.901C197.831,-143.961 197.641,-134.732 197.916,-126.044\"/>\r\n",
       "<polygon fill=\"black\" stroke=\"black\" points=\"201.423,-126.016 198.482,-115.838 194.433,-125.629 201.423,-126.016\"/>\r\n",
       "</g>\r\n",
       "<!-- Links -->\r\n",
       "<g id=\"node4\" class=\"node\"><title>Links</title>\r\n",
       "<ellipse fill=\"none\" stroke=\"black\" cx=\"305.544\" cy=\"-93.9203\" rx=\"38.7821\" ry=\"21.8409\"/>\r\n",
       "<text text-anchor=\"start\" x=\"290.044\" y=\"-95.2203\" font-family=\"Times New Roman,serif\" font-size=\"14.00\">Links</text>\r\n",
       "<text text-anchor=\"start\" x=\"286.044\" y=\"-85.2203\" font-family=\"Times New Roman,serif\" font-size=\"9.00\">PR 0.4094</text>\r\n",
       "</g>\r\n",
       "<!-- Home&#45;&gt;Links -->\r\n",
       "<g id=\"edge3\" class=\"edge\"><title>Home&#45;&gt;Links</title>\r\n",
       "<path fill=\"none\" stroke=\"black\" d=\"M222.639,-154.314C236.231,-142.982 255.043,-128.412 271.374,-116.539\"/>\r\n",
       "<polygon fill=\"black\" stroke=\"black\" points=\"273.56,-119.279 279.648,-110.608 269.481,-113.59 273.56,-119.279\"/>\r\n",
       "</g>\r\n",
       "<!-- About&#45;&gt;Home -->\r\n",
       "<g id=\"edge4\" class=\"edge\"><title>About&#45;&gt;Home</title>\r\n",
       "<path fill=\"none\" stroke=\"black\" d=\"M129.44,-110.608C144.533,-121.262 163.379,-135.578 178.487,-147.786\"/>\r\n",
       "<polygon fill=\"black\" stroke=\"black\" points=\"176.496,-150.679 186.448,-154.314 180.935,-145.267 176.496,-150.679\"/>\r\n",
       "</g>\r\n",
       "<!-- Product&#45;&gt;Home -->\r\n",
       "<g id=\"edge5\" class=\"edge\"><title>Product&#45;&gt;Home</title>\r\n",
       "<path fill=\"none\" stroke=\"black\" d=\"M210.606,-115.838C211.259,-123.784 211.447,-133.014 211.17,-141.7\"/>\r\n",
       "<polygon fill=\"black\" stroke=\"black\" points=\"207.663,-141.722 210.601,-151.901 214.653,-142.111 207.663,-141.722\"/>\r\n",
       "</g>\r\n",
       "<!-- Links&#45;&gt;Home -->\r\n",
       "<g id=\"edge6\" class=\"edge\"><title>Links&#45;&gt;Home</title>\r\n",
       "<path fill=\"none\" stroke=\"black\" d=\"M287.32,-113.474C273.688,-124.833 254.855,-139.414 238.532,-151.274\"/>\r\n",
       "<polygon fill=\"black\" stroke=\"black\" points=\"236.357,-148.527 230.266,-157.196 240.434,-154.217 236.357,-148.527\"/>\r\n",
       "</g>\r\n",
       "<!-- External_Site_A -->\r\n",
       "<g id=\"node5\" class=\"node\"><title>External_Site_A</title>\r\n",
       "<ellipse fill=\"none\" stroke=\"black\" cx=\"69.5438\" cy=\"-18\" rx=\"69.5877\" ry=\"18\"/>\r\n",
       "<text text-anchor=\"middle\" x=\"69.5438\" y=\"-14.3\" font-family=\"Times New Roman,serif\" font-size=\"14.00\">External_Site_A</text>\r\n",
       "</g>\r\n",
       "<!-- Links&#45;&gt;External_Site_A -->\r\n",
       "<g id=\"edge7\" class=\"edge\"><title>Links&#45;&gt;External_Site_A</title>\r\n",
       "<path fill=\"none\" stroke=\"black\" d=\"M276.095,-79.3347C270.021,-76.7456 263.622,-74.17 257.544,-72 214.887,-56.7716 165.567,-43.0065 128.147,-33.3232\"/>\r\n",
       "<polygon fill=\"black\" stroke=\"black\" points=\"128.97,-29.921 118.414,-30.8269 127.231,-36.7015 128.97,-29.921\"/>\r\n",
       "</g>\r\n",
       "<!-- External_Site_B -->\r\n",
       "<g id=\"node6\" class=\"node\"><title>External_Site_B</title>\r\n",
       "<ellipse fill=\"none\" stroke=\"black\" cx=\"226.544\" cy=\"-18\" rx=\"69.5877\" ry=\"18\"/>\r\n",
       "<text text-anchor=\"middle\" x=\"226.544\" y=\"-14.3\" font-family=\"Times New Roman,serif\" font-size=\"14.00\">External_Site_B</text>\r\n",
       "</g>\r\n",
       "<!-- Links&#45;&gt;External_Site_B -->\r\n",
       "<g id=\"edge8\" class=\"edge\"><title>Links&#45;&gt;External_Site_B</title>\r\n",
       "<path fill=\"none\" stroke=\"black\" d=\"M286.016,-74.6479C275.621,-64.9214 262.722,-52.8518 251.596,-42.4416\"/>\r\n",
       "<polygon fill=\"black\" stroke=\"black\" points=\"253.923,-39.8256 244.23,-35.5489 249.141,-44.937 253.923,-39.8256\"/>\r\n",
       "</g>\r\n",
       "<!-- External_Site_C -->\r\n",
       "<g id=\"node7\" class=\"node\"><title>External_Site_C</title>\r\n",
       "<ellipse fill=\"none\" stroke=\"black\" cx=\"383.544\" cy=\"-18\" rx=\"69.5877\" ry=\"18\"/>\r\n",
       "<text text-anchor=\"middle\" x=\"383.544\" y=\"-14.3\" font-family=\"Times New Roman,serif\" font-size=\"14.00\">External_Site_C</text>\r\n",
       "</g>\r\n",
       "<!-- Links&#45;&gt;External_Site_C -->\r\n",
       "<g id=\"edge9\" class=\"edge\"><title>Links&#45;&gt;External_Site_C</title>\r\n",
       "<path fill=\"none\" stroke=\"black\" d=\"M324.825,-74.6479C335.088,-64.9214 347.824,-52.8518 358.808,-42.4416\"/>\r\n",
       "<polygon fill=\"black\" stroke=\"black\" points=\"361.231,-44.968 366.082,-35.5489 356.416,-39.8872 361.231,-44.968\"/>\r\n",
       "</g>\r\n",
       "<!-- External_Site_D -->\r\n",
       "<g id=\"node8\" class=\"node\"><title>External_Site_D</title>\r\n",
       "<ellipse fill=\"none\" stroke=\"black\" cx=\"540.544\" cy=\"-18\" rx=\"69.5877\" ry=\"18\"/>\r\n",
       "<text text-anchor=\"middle\" x=\"540.544\" y=\"-14.3\" font-family=\"Times New Roman,serif\" font-size=\"14.00\">External_Site_D</text>\r\n",
       "</g>\r\n",
       "<!-- Links&#45;&gt;External_Site_D -->\r\n",
       "<g id=\"edge10\" class=\"edge\"><title>Links&#45;&gt;External_Site_D</title>\r\n",
       "<path fill=\"none\" stroke=\"black\" d=\"M339.214,-82.3293C378.232,-70.0559 442.984,-49.6878 488.497,-35.3716\"/>\r\n",
       "<polygon fill=\"black\" stroke=\"black\" points=\"489.698,-38.6629 498.187,-32.3236 487.597,-31.9855 489.698,-38.6629\"/>\r\n",
       "</g>\r\n",
       "</g>\r\n",
       "</svg>\r\n"
      ],
      "text/plain": [
       "<graphviz.files.Source at 0x28ec7ee0710>"
      ]
     },
     "execution_count": 9,
     "metadata": {},
     "output_type": "execute_result"
    }
   ],
   "source": [
    "pr = PageRank(pages, initial_guess=1)\n",
    "pr.calculate(20, report=True, report_every=20, rep_function=report)\n",
    "print(\"Average PR: %.3f\" % pr.get_avg())\n",
    "pr.get_digraph(show_pr=True)"
   ]
  },
  {
   "cell_type": "markdown",
   "metadata": {},
   "source": [
    "As you’d expect, the home page has the most PR – after all, it has the most incoming links! But what’s happened to the average? It’s only 0.378!!! That doesn’t tie up with what I said earlier so something is wrong somewhere!\n",
    "\n",
    "Well no, everything is fine. But take a look at the “external site” pages – what’s happening to their PageRank? They’re not passing it on, they’re not voting for anyone, they’re wasting their PR like so much pregnant chad!!! (NB, a more accurate description of this issue can be found in this [thread](http://www.marketpositiontalk.com/forums/Index.cfm?CFApp=11&Message_ID=37917))"
   ]
  },
  {
   "cell_type": "markdown",
   "metadata": {},
   "source": [
    "### Example 3  \n",
    "Let’s link those external sites back into our home page just so we can see what happens to the average…"
   ]
  },
  {
   "cell_type": "code",
   "execution_count": 10,
   "metadata": {},
   "outputs": [
    {
     "name": "stdout",
     "output_type": "stream",
     "text": [
      "Iteration 20\n",
      "\tExternal Site B: 0.337026\n",
      "\tProduct: 1.100150\n",
      "\tAbout: 1.100150\n",
      "\tHome: 3.353184\n",
      "\tExternal Site C: 0.337026\n",
      "\tLinks: 1.100069\n",
      "\tExternal Site A: 0.337012\n",
      "\tExternal Site D: 0.337012\n",
      "Average PR: 1.000\n"
     ]
    },
    {
     "data": {
      "image/svg+xml": [
       "<?xml version=\"1.0\" encoding=\"UTF-8\" standalone=\"no\"?>\r\n",
       "<!DOCTYPE svg PUBLIC \"-//W3C//DTD SVG 1.1//EN\"\r\n",
       " \"http://www.w3.org/Graphics/SVG/1.1/DTD/svg11.dtd\">\r\n",
       "<!-- Generated by graphviz version 2.38.0 (20140413.2041)\r\n",
       " -->\r\n",
       "<!-- Title: G Pages: 1 -->\r\n",
       "<svg width=\"640pt\" height=\"212pt\"\r\n",
       " viewBox=\"0.00 0.00 639.60 211.52\" xmlns=\"http://www.w3.org/2000/svg\" xmlns:xlink=\"http://www.w3.org/1999/xlink\">\r\n",
       "<g id=\"graph0\" class=\"graph\" transform=\"scale(1 1) rotate(0) translate(4 207.522)\">\r\n",
       "<title>G</title>\r\n",
       "<polygon fill=\"white\" stroke=\"none\" points=\"-4,4 -4,-207.522 635.602,-207.522 635.602,4 -4,4\"/>\r\n",
       "<!-- Home -->\r\n",
       "<g id=\"node1\" class=\"node\"><title>Home</title>\r\n",
       "<ellipse fill=\"none\" stroke=\"black\" cx=\"230.891\" cy=\"-181.602\" rx=\"38.7821\" ry=\"21.8409\"/>\r\n",
       "<text text-anchor=\"start\" x=\"213.891\" y=\"-182.902\" font-family=\"Times New Roman,serif\" font-size=\"14.00\">Home</text>\r\n",
       "<text text-anchor=\"start\" x=\"211.391\" y=\"-172.902\" font-family=\"Times New Roman,serif\" font-size=\"9.00\">PR 3.3532</text>\r\n",
       "</g>\r\n",
       "<!-- About -->\r\n",
       "<g id=\"node2\" class=\"node\"><title>About</title>\r\n",
       "<ellipse fill=\"none\" stroke=\"black\" cx=\"38.8909\" cy=\"-101.761\" rx=\"38.7821\" ry=\"21.8409\"/>\r\n",
       "<text text-anchor=\"start\" x=\"20.8909\" y=\"-103.061\" font-family=\"Times New Roman,serif\" font-size=\"14.00\">About</text>\r\n",
       "<text text-anchor=\"start\" x=\"19.3909\" y=\"-93.0609\" font-family=\"Times New Roman,serif\" font-size=\"9.00\">PR 1.1002</text>\r\n",
       "</g>\r\n",
       "<!-- Home&#45;&gt;About -->\r\n",
       "<g id=\"edge1\" class=\"edge\"><title>Home&#45;&gt;About</title>\r\n",
       "<path fill=\"none\" stroke=\"black\" d=\"M197.318,-170.282C165.961,-159.084 118.48,-140.543 77.8909,-123.681 76.7103,-123.191 75.5147,-122.691 74.3106,-122.185\"/>\r\n",
       "<polygon fill=\"black\" stroke=\"black\" points=\"75.5968,-118.928 65.0262,-118.212 72.8428,-125.364 75.5968,-118.928\"/>\r\n",
       "</g>\r\n",
       "<!-- Product -->\r\n",
       "<g id=\"node3\" class=\"node\"><title>Product</title>\r\n",
       "<ellipse fill=\"none\" stroke=\"black\" cx=\"139.891\" cy=\"-101.761\" rx=\"43.6818\" ry=\"21.8409\"/>\r\n",
       "<text text-anchor=\"start\" x=\"116.891\" y=\"-103.061\" font-family=\"Times New Roman,serif\" font-size=\"14.00\">Product</text>\r\n",
       "<text text-anchor=\"start\" x=\"120.391\" y=\"-93.0609\" font-family=\"Times New Roman,serif\" font-size=\"9.00\">PR 1.1002</text>\r\n",
       "</g>\r\n",
       "<!-- Home&#45;&gt;Product -->\r\n",
       "<g id=\"edge2\" class=\"edge\"><title>Home&#45;&gt;Product</title>\r\n",
       "<path fill=\"none\" stroke=\"black\" d=\"M206.443,-164.473C193.368,-154.295 177.436,-140.906 164.369,-129.201\"/>\r\n",
       "<polygon fill=\"black\" stroke=\"black\" points=\"166.405,-126.321 156.655,-122.174 161.691,-131.496 166.405,-126.321\"/>\r\n",
       "</g>\r\n",
       "<!-- Links -->\r\n",
       "<g id=\"node4\" class=\"node\"><title>Links</title>\r\n",
       "<ellipse fill=\"none\" stroke=\"black\" cx=\"316.891\" cy=\"-101.761\" rx=\"38.7821\" ry=\"21.8409\"/>\r\n",
       "<text text-anchor=\"start\" x=\"301.391\" y=\"-103.061\" font-family=\"Times New Roman,serif\" font-size=\"14.00\">Links</text>\r\n",
       "<text text-anchor=\"start\" x=\"297.391\" y=\"-93.0609\" font-family=\"Times New Roman,serif\" font-size=\"9.00\">PR 1.1001</text>\r\n",
       "</g>\r\n",
       "<!-- Home&#45;&gt;Links -->\r\n",
       "<g id=\"edge3\" class=\"edge\"><title>Home&#45;&gt;Links</title>\r\n",
       "<path fill=\"none\" stroke=\"black\" d=\"M246.234,-161.36C257.101,-150.622 271.856,-137.173 285.133,-125.868\"/>\r\n",
       "<polygon fill=\"black\" stroke=\"black\" points=\"287.738,-128.252 293.161,-119.15 283.246,-122.884 287.738,-128.252\"/>\r\n",
       "</g>\r\n",
       "<!-- About&#45;&gt;Home -->\r\n",
       "<g id=\"edge4\" class=\"edge\"><title>About&#45;&gt;Home</title>\r\n",
       "<path fill=\"none\" stroke=\"black\" d=\"M71.8222,-113.567C79.7962,-116.869 88.1676,-120.473 95.8909,-123.681 128.393,-137.183 165.313,-151.762 192.428,-162.785\"/>\r\n",
       "<polygon fill=\"black\" stroke=\"black\" points=\"191.367,-166.132 201.948,-166.677 194.016,-159.653 191.367,-166.132\"/>\r\n",
       "</g>\r\n",
       "<!-- Product&#45;&gt;Home -->\r\n",
       "<g id=\"edge5\" class=\"edge\"><title>Product&#45;&gt;Home</title>\r\n",
       "<path fill=\"none\" stroke=\"black\" d=\"M165.334,-119.666C178.332,-129.833 193.953,-142.986 206.755,-154.468\"/>\r\n",
       "<polygon fill=\"black\" stroke=\"black\" points=\"204.565,-157.208 214.312,-161.36 209.282,-152.036 204.565,-157.208\"/>\r\n",
       "</g>\r\n",
       "<!-- Links&#45;&gt;Home -->\r\n",
       "<g id=\"edge6\" class=\"edge\"><title>Links&#45;&gt;Home</title>\r\n",
       "<path fill=\"none\" stroke=\"black\" d=\"M301.561,-121.99C290.728,-132.694 276.028,-146.097 262.779,-157.383\"/>\r\n",
       "<polygon fill=\"black\" stroke=\"black\" points=\"260.185,-154.99 254.765,-164.094 264.679,-160.357 260.185,-154.99\"/>\r\n",
       "</g>\r\n",
       "<!-- External_Site_A -->\r\n",
       "<g id=\"node5\" class=\"node\"><title>External_Site_A</title>\r\n",
       "<ellipse fill=\"none\" stroke=\"black\" cx=\"83.8909\" cy=\"-21.9203\" rx=\"70.922\" ry=\"21.8409\"/>\r\n",
       "<text text-anchor=\"start\" x=\"41.8909\" y=\"-23.2203\" font-family=\"Times New Roman,serif\" font-size=\"14.00\">External Site A</text>\r\n",
       "<text text-anchor=\"start\" x=\"64.3909\" y=\"-13.2203\" font-family=\"Times New Roman,serif\" font-size=\"9.00\">PR 0.3370</text>\r\n",
       "</g>\r\n",
       "<!-- Links&#45;&gt;External_Site_A -->\r\n",
       "<g id=\"edge7\" class=\"edge\"><title>Links&#45;&gt;External_Site_A</title>\r\n",
       "<path fill=\"none\" stroke=\"black\" d=\"M284.002,-89.7734C246.721,-77.3186 185.297,-56.798 140.319,-41.7717\"/>\r\n",
       "<polygon fill=\"black\" stroke=\"black\" points=\"141.293,-38.4071 130.699,-38.5581 139.075,-45.0464 141.293,-38.4071\"/>\r\n",
       "</g>\r\n",
       "<!-- External_Site_B -->\r\n",
       "<g id=\"node6\" class=\"node\"><title>External_Site_B</title>\r\n",
       "<ellipse fill=\"none\" stroke=\"black\" cx=\"242.891\" cy=\"-21.9203\" rx=\"70.0071\" ry=\"21.8409\"/>\r\n",
       "<text text-anchor=\"start\" x=\"201.391\" y=\"-23.2203\" font-family=\"Times New Roman,serif\" font-size=\"14.00\">External Site B</text>\r\n",
       "<text text-anchor=\"start\" x=\"223.391\" y=\"-13.2203\" font-family=\"Times New Roman,serif\" font-size=\"9.00\">PR 0.3370</text>\r\n",
       "</g>\r\n",
       "<!-- Links&#45;&gt;External_Site_B -->\r\n",
       "<g id=\"edge8\" class=\"edge\"><title>Links&#45;&gt;External_Site_B</title>\r\n",
       "<path fill=\"none\" stroke=\"black\" d=\"M298.978,-81.9179C290.028,-72.5042 279.028,-60.9326 269.146,-50.5386\"/>\r\n",
       "<polygon fill=\"black\" stroke=\"black\" points=\"271.621,-48.062 262.195,-43.2259 266.548,-52.8851 271.621,-48.062\"/>\r\n",
       "</g>\r\n",
       "<!-- External_Site_C -->\r\n",
       "<g id=\"node7\" class=\"node\"><title>External_Site_C</title>\r\n",
       "<ellipse fill=\"none\" stroke=\"black\" cx=\"401.891\" cy=\"-21.9203\" rx=\"70.922\" ry=\"21.8409\"/>\r\n",
       "<text text-anchor=\"start\" x=\"359.891\" y=\"-23.2203\" font-family=\"Times New Roman,serif\" font-size=\"14.00\">External Site C</text>\r\n",
       "<text text-anchor=\"start\" x=\"382.391\" y=\"-13.2203\" font-family=\"Times New Roman,serif\" font-size=\"9.00\">PR 0.3370</text>\r\n",
       "</g>\r\n",
       "<!-- Links&#45;&gt;External_Site_C -->\r\n",
       "<g id=\"edge9\" class=\"edge\"><title>Links&#45;&gt;External_Site_C</title>\r\n",
       "<path fill=\"none\" stroke=\"black\" d=\"M336.605,-82.7071C347.306,-72.9072 360.744,-60.6013 372.642,-49.7054\"/>\r\n",
       "<polygon fill=\"black\" stroke=\"black\" points=\"375.183,-52.1243 380.194,-42.7894 370.456,-46.9619 375.183,-52.1243\"/>\r\n",
       "</g>\r\n",
       "<!-- External_Site_D -->\r\n",
       "<g id=\"node8\" class=\"node\"><title>External_Site_D</title>\r\n",
       "<ellipse fill=\"none\" stroke=\"black\" cx=\"560.891\" cy=\"-21.9203\" rx=\"70.922\" ry=\"21.8409\"/>\r\n",
       "<text text-anchor=\"start\" x=\"518.891\" y=\"-23.2203\" font-family=\"Times New Roman,serif\" font-size=\"14.00\">External Site D</text>\r\n",
       "<text text-anchor=\"start\" x=\"541.391\" y=\"-13.2203\" font-family=\"Times New Roman,serif\" font-size=\"9.00\">PR 0.3370</text>\r\n",
       "</g>\r\n",
       "<!-- Links&#45;&gt;External_Site_D -->\r\n",
       "<g id=\"edge10\" class=\"edge\"><title>Links&#45;&gt;External_Site_D</title>\r\n",
       "<path fill=\"none\" stroke=\"black\" d=\"M350.052,-90.182C389.426,-77.6208 455.766,-56.4572 503.525,-41.221\"/>\r\n",
       "<polygon fill=\"black\" stroke=\"black\" points=\"504.654,-44.5349 513.117,-38.1611 502.526,-37.866 504.654,-44.5349\"/>\r\n",
       "</g>\r\n",
       "<!-- External_Site_A&#45;&gt;Home -->\r\n",
       "<g id=\"edge11\" class=\"edge\"><title>External_Site_A&#45;&gt;Home</title>\r\n",
       "<path fill=\"none\" stroke=\"black\" d=\"M130.748,-38.506C152.134,-47.6504 176.326,-61.1463 192.891,-79.8406 210.259,-99.4414 219.998,-127.76 225.256,-149.388\"/>\r\n",
       "<polygon fill=\"black\" stroke=\"black\" points=\"221.897,-150.403 227.491,-159.4 228.728,-148.878 221.897,-150.403\"/>\r\n",
       "</g>\r\n",
       "<!-- External_Site_B&#45;&gt;Home -->\r\n",
       "<g id=\"edge12\" class=\"edge\"><title>External_Site_B&#45;&gt;Home</title>\r\n",
       "<path fill=\"none\" stroke=\"black\" d=\"M241.291,-43.9458C239.234,-70.9667 235.647,-118.108 233.27,-149.339\"/>\r\n",
       "<polygon fill=\"black\" stroke=\"black\" points=\"229.753,-149.426 232.484,-159.663 236.733,-149.957 229.753,-149.426\"/>\r\n",
       "</g>\r\n",
       "<!-- External_Site_C&#45;&gt;Home -->\r\n",
       "<g id=\"edge13\" class=\"edge\"><title>External_Site_C&#45;&gt;Home</title>\r\n",
       "<path fill=\"none\" stroke=\"black\" d=\"M399.152,-44.0282C395.217,-66.4147 385.957,-101.54 364.891,-123.681 341.513,-148.252 305.829,-162.703 277.162,-170.892\"/>\r\n",
       "<polygon fill=\"black\" stroke=\"black\" points=\"276.093,-167.556 267.346,-173.534 277.912,-174.315 276.093,-167.556\"/>\r\n",
       "</g>\r\n",
       "<!-- External_Site_D&#45;&gt;Home -->\r\n",
       "<g id=\"edge14\" class=\"edge\"><title>External_Site_D&#45;&gt;Home</title>\r\n",
       "<path fill=\"none\" stroke=\"black\" d=\"M532.347,-42.1687C499.305,-63.8906 442.768,-99.359 390.891,-123.681 352.667,-141.602 307.147,-157.283 274.451,-167.623\"/>\r\n",
       "<polygon fill=\"black\" stroke=\"black\" points=\"273.239,-164.335 264.738,-170.658 275.327,-171.017 273.239,-164.335\"/>\r\n",
       "</g>\r\n",
       "</g>\r\n",
       "</svg>\r\n"
      ],
      "text/plain": [
       "<graphviz.files.Source at 0x28ec7f175f8>"
      ]
     },
     "execution_count": 10,
     "metadata": {},
     "output_type": "execute_result"
    }
   ],
   "source": [
    "pages = {\n",
    "    \"Home\": [\"About\", \"Product\", \"Links\"],\n",
    "    \"About\": [\"Home\"],\n",
    "    \"Product\": [\"Home\"],\n",
    "    \"Links\": [\"Home\",\"External Site A\", \"External Site B\", \"External Site C\", \"External Site D\"],\n",
    "    \"External Site A\": [\"Home\"],\n",
    "    \"External Site B\": [\"Home\"],\n",
    "    \"External Site C\": [\"Home\"],\n",
    "    \"External Site D\": [\"Home\"]\n",
    "}\n",
    "\n",
    "pr = PageRank(pages, initial_guess=1)\n",
    "pr.calculate(20, report=True, report_every=20, rep_function=report)\n",
    "print(\"Average PR: %.3f\" % pr.get_avg())\n",
    "pr.get_digraph(show_pr=True)"
   ]
  },
  {
   "cell_type": "markdown",
   "metadata": {},
   "source": [
    "That’s better - it does work after all! And look at the PR of our home page! All those incoming links sure make a difference – we’ll talk more about that later."
   ]
  },
  {
   "cell_type": "markdown",
   "metadata": {},
   "source": [
    "### Example 4  \n",
    "What happens to PR if we follow a suggestion about writing page reviews?"
   ]
  },
  {
   "cell_type": "code",
   "execution_count": 11,
   "metadata": {},
   "outputs": [
    {
     "name": "stdout",
     "output_type": "stream",
     "text": [
      "Iteration 20\n",
      "\tExternal Site B: 0.229457\n",
      "\tProduct: 0.841308\n",
      "\tReview D: 0.229457\n",
      "\tAbout: 0.841308\n",
      "\tHome: 2.439835\n",
      "\tReview C: 0.229457\n",
      "\tExternal Site C: 0.229457\n",
      "\tLinks: 0.841287\n",
      "\tReview B: 0.229455\n",
      "\tExternal Site A: 0.229455\n",
      "\tReview A: 0.229455\n",
      "\tExternal Site D: 0.229455\n",
      "Average PR: 0.567\n"
     ]
    },
    {
     "data": {
      "image/svg+xml": [
       "<?xml version=\"1.0\" encoding=\"UTF-8\" standalone=\"no\"?>\r\n",
       "<!DOCTYPE svg PUBLIC \"-//W3C//DTD SVG 1.1//EN\"\r\n",
       " \"http://www.w3.org/Graphics/SVG/1.1/DTD/svg11.dtd\">\r\n",
       "<!-- Generated by graphviz version 2.38.0 (20140413.2041)\r\n",
       " -->\r\n",
       "<!-- Title: G Pages: 1 -->\r\n",
       "<svg width=\"1091pt\" height=\"212pt\"\r\n",
       " viewBox=\"0.00 0.00 1090.75 211.52\" xmlns=\"http://www.w3.org/2000/svg\" xmlns:xlink=\"http://www.w3.org/1999/xlink\">\r\n",
       "<g id=\"graph0\" class=\"graph\" transform=\"scale(1 1) rotate(0) translate(4 207.522)\">\r\n",
       "<title>G</title>\r\n",
       "<polygon fill=\"white\" stroke=\"none\" points=\"-4,4 -4,-207.522 1086.75,-207.522 1086.75,4 -4,4\"/>\r\n",
       "<!-- Home -->\r\n",
       "<g id=\"node1\" class=\"node\"><title>Home</title>\r\n",
       "<ellipse fill=\"none\" stroke=\"black\" cx=\"231.205\" cy=\"-181.602\" rx=\"38.7821\" ry=\"21.8409\"/>\r\n",
       "<text text-anchor=\"start\" x=\"214.205\" y=\"-182.902\" font-family=\"Times New Roman,serif\" font-size=\"14.00\">Home</text>\r\n",
       "<text text-anchor=\"start\" x=\"211.705\" y=\"-172.902\" font-family=\"Times New Roman,serif\" font-size=\"9.00\">PR 2.4398</text>\r\n",
       "</g>\r\n",
       "<!-- About -->\r\n",
       "<g id=\"node2\" class=\"node\"><title>About</title>\r\n",
       "<ellipse fill=\"none\" stroke=\"black\" cx=\"39.2046\" cy=\"-101.761\" rx=\"38.7821\" ry=\"21.8409\"/>\r\n",
       "<text text-anchor=\"start\" x=\"21.2046\" y=\"-103.061\" font-family=\"Times New Roman,serif\" font-size=\"14.00\">About</text>\r\n",
       "<text text-anchor=\"start\" x=\"19.7046\" y=\"-93.0609\" font-family=\"Times New Roman,serif\" font-size=\"9.00\">PR 0.8413</text>\r\n",
       "</g>\r\n",
       "<!-- Home&#45;&gt;About -->\r\n",
       "<g id=\"edge1\" class=\"edge\"><title>Home&#45;&gt;About</title>\r\n",
       "<path fill=\"none\" stroke=\"black\" d=\"M197.632,-170.282C166.275,-159.084 118.794,-140.543 78.2046,-123.681 77.024,-123.191 75.8284,-122.691 74.6243,-122.185\"/>\r\n",
       "<polygon fill=\"black\" stroke=\"black\" points=\"75.9105,-118.928 65.3399,-118.212 73.1565,-125.364 75.9105,-118.928\"/>\r\n",
       "</g>\r\n",
       "<!-- Product -->\r\n",
       "<g id=\"node3\" class=\"node\"><title>Product</title>\r\n",
       "<ellipse fill=\"none\" stroke=\"black\" cx=\"140.205\" cy=\"-101.761\" rx=\"43.6818\" ry=\"21.8409\"/>\r\n",
       "<text text-anchor=\"start\" x=\"117.205\" y=\"-103.061\" font-family=\"Times New Roman,serif\" font-size=\"14.00\">Product</text>\r\n",
       "<text text-anchor=\"start\" x=\"120.705\" y=\"-93.0609\" font-family=\"Times New Roman,serif\" font-size=\"9.00\">PR 0.8413</text>\r\n",
       "</g>\r\n",
       "<!-- Home&#45;&gt;Product -->\r\n",
       "<g id=\"edge2\" class=\"edge\"><title>Home&#45;&gt;Product</title>\r\n",
       "<path fill=\"none\" stroke=\"black\" d=\"M206.757,-164.473C193.682,-154.295 177.749,-140.906 164.683,-129.201\"/>\r\n",
       "<polygon fill=\"black\" stroke=\"black\" points=\"166.718,-126.321 156.968,-122.174 162.005,-131.496 166.718,-126.321\"/>\r\n",
       "</g>\r\n",
       "<!-- Links -->\r\n",
       "<g id=\"node4\" class=\"node\"><title>Links</title>\r\n",
       "<ellipse fill=\"none\" stroke=\"black\" cx=\"402.205\" cy=\"-101.761\" rx=\"38.7821\" ry=\"21.8409\"/>\r\n",
       "<text text-anchor=\"start\" x=\"386.705\" y=\"-103.061\" font-family=\"Times New Roman,serif\" font-size=\"14.00\">Links</text>\r\n",
       "<text text-anchor=\"start\" x=\"382.705\" y=\"-93.0609\" font-family=\"Times New Roman,serif\" font-size=\"9.00\">PR 0.8413</text>\r\n",
       "</g>\r\n",
       "<!-- Home&#45;&gt;Links -->\r\n",
       "<g id=\"edge3\" class=\"edge\"><title>Home&#45;&gt;Links</title>\r\n",
       "<path fill=\"none\" stroke=\"black\" d=\"M258.336,-165.777C286.057,-152.385 329.207,-132.719 361.094,-118.927\"/>\r\n",
       "<polygon fill=\"black\" stroke=\"black\" points=\"362.789,-122.009 370.598,-114.849 360.028,-115.576 362.789,-122.009\"/>\r\n",
       "</g>\r\n",
       "<!-- About&#45;&gt;Home -->\r\n",
       "<g id=\"edge4\" class=\"edge\"><title>About&#45;&gt;Home</title>\r\n",
       "<path fill=\"none\" stroke=\"black\" d=\"M72.136,-113.567C80.1099,-116.869 88.4813,-120.473 96.2046,-123.681 128.706,-137.183 165.627,-151.762 192.742,-162.785\"/>\r\n",
       "<polygon fill=\"black\" stroke=\"black\" points=\"191.681,-166.132 202.262,-166.677 194.33,-159.653 191.681,-166.132\"/>\r\n",
       "</g>\r\n",
       "<!-- Product&#45;&gt;Home -->\r\n",
       "<g id=\"edge5\" class=\"edge\"><title>Product&#45;&gt;Home</title>\r\n",
       "<path fill=\"none\" stroke=\"black\" d=\"M165.648,-119.666C178.645,-129.833 194.267,-142.986 207.068,-154.468\"/>\r\n",
       "<polygon fill=\"black\" stroke=\"black\" points=\"204.879,-157.208 214.626,-161.36 209.595,-152.036 204.879,-157.208\"/>\r\n",
       "</g>\r\n",
       "<!-- Links&#45;&gt;Home -->\r\n",
       "<g id=\"edge6\" class=\"edge\"><title>Links&#45;&gt;Home</title>\r\n",
       "<path fill=\"none\" stroke=\"black\" d=\"M375.122,-117.562C347.339,-130.985 304.024,-150.725 272.097,-164.53\"/>\r\n",
       "<polygon fill=\"black\" stroke=\"black\" points=\"270.395,-161.451 262.585,-168.61 273.155,-167.885 270.395,-161.451\"/>\r\n",
       "</g>\r\n",
       "<!-- Review_A -->\r\n",
       "<g id=\"node5\" class=\"node\"><title>Review_A</title>\r\n",
       "<ellipse fill=\"none\" stroke=\"black\" cx=\"50.2046\" cy=\"-21.9203\" rx=\"50.41\" ry=\"21.8409\"/>\r\n",
       "<text text-anchor=\"start\" x=\"22.7046\" y=\"-23.2203\" font-family=\"Times New Roman,serif\" font-size=\"14.00\">Review A</text>\r\n",
       "<text text-anchor=\"start\" x=\"30.7046\" y=\"-13.2203\" font-family=\"Times New Roman,serif\" font-size=\"9.00\">PR 0.2295</text>\r\n",
       "</g>\r\n",
       "<!-- Links&#45;&gt;Review_A -->\r\n",
       "<g id=\"edge11\" class=\"edge\"><title>Links&#45;&gt;Review_A</title>\r\n",
       "<path fill=\"none\" stroke=\"black\" d=\"M364.794,-95.3229C308.692,-86.758 199.691,-68.5246 109.205,-43.8406 105.135,-42.7305 100.944,-41.4761 96.7602,-40.1468\"/>\r\n",
       "<polygon fill=\"black\" stroke=\"black\" points=\"97.6692,-36.7609 87.0759,-36.9414 95.4696,-43.4064 97.6692,-36.7609\"/>\r\n",
       "</g>\r\n",
       "<!-- Review_B -->\r\n",
       "<g id=\"node6\" class=\"node\"><title>Review_B</title>\r\n",
       "<ellipse fill=\"none\" stroke=\"black\" cx=\"168.205\" cy=\"-21.9203\" rx=\"50.41\" ry=\"21.8409\"/>\r\n",
       "<text text-anchor=\"start\" x=\"140.705\" y=\"-23.2203\" font-family=\"Times New Roman,serif\" font-size=\"14.00\">Review B</text>\r\n",
       "<text text-anchor=\"start\" x=\"148.705\" y=\"-13.2203\" font-family=\"Times New Roman,serif\" font-size=\"9.00\">PR 0.2295</text>\r\n",
       "</g>\r\n",
       "<!-- Links&#45;&gt;Review_B -->\r\n",
       "<g id=\"edge12\" class=\"edge\"><title>Links&#45;&gt;Review_B</title>\r\n",
       "<path fill=\"none\" stroke=\"black\" d=\"M368.895,-90.2139C333.623,-78.9784 276.36,-60.5463 227.205,-43.8406 223.434,-42.5593 219.535,-41.2162 215.62,-39.8552\"/>\r\n",
       "<polygon fill=\"black\" stroke=\"black\" points=\"216.518,-36.4612 205.923,-36.4605 214.205,-43.0681 216.518,-36.4612\"/>\r\n",
       "</g>\r\n",
       "<!-- Review_C -->\r\n",
       "<g id=\"node7\" class=\"node\"><title>Review_C</title>\r\n",
       "<ellipse fill=\"none\" stroke=\"black\" cx=\"286.205\" cy=\"-21.9203\" rx=\"50.41\" ry=\"21.8409\"/>\r\n",
       "<text text-anchor=\"start\" x=\"258.705\" y=\"-23.2203\" font-family=\"Times New Roman,serif\" font-size=\"14.00\">Review C</text>\r\n",
       "<text text-anchor=\"start\" x=\"266.705\" y=\"-13.2203\" font-family=\"Times New Roman,serif\" font-size=\"9.00\">PR 0.2295</text>\r\n",
       "</g>\r\n",
       "<!-- Links&#45;&gt;Review_C -->\r\n",
       "<g id=\"edge13\" class=\"edge\"><title>Links&#45;&gt;Review_C</title>\r\n",
       "<path fill=\"none\" stroke=\"black\" d=\"M377.887,-84.443C361.559,-73.4859 339.779,-58.8712 321.546,-46.6355\"/>\r\n",
       "<polygon fill=\"black\" stroke=\"black\" points=\"323.173,-43.5123 312.919,-40.8465 319.272,-49.3249 323.173,-43.5123\"/>\r\n",
       "</g>\r\n",
       "<!-- Review_D -->\r\n",
       "<g id=\"node8\" class=\"node\"><title>Review_D</title>\r\n",
       "<ellipse fill=\"none\" stroke=\"black\" cx=\"404.205\" cy=\"-21.9203\" rx=\"50.41\" ry=\"21.8409\"/>\r\n",
       "<text text-anchor=\"start\" x=\"376.705\" y=\"-23.2203\" font-family=\"Times New Roman,serif\" font-size=\"14.00\">Review D</text>\r\n",
       "<text text-anchor=\"start\" x=\"384.705\" y=\"-13.2203\" font-family=\"Times New Roman,serif\" font-size=\"9.00\">PR 0.2295</text>\r\n",
       "</g>\r\n",
       "<!-- Links&#45;&gt;Review_D -->\r\n",
       "<g id=\"edge14\" class=\"edge\"><title>Links&#45;&gt;Review_D</title>\r\n",
       "<path fill=\"none\" stroke=\"black\" d=\"M402.751,-79.4906C402.953,-71.6181 403.187,-62.5233 403.407,-53.9597\"/>\r\n",
       "<polygon fill=\"black\" stroke=\"black\" points=\"406.908,-53.982 403.666,-43.8954 399.91,-53.8021 406.908,-53.982\"/>\r\n",
       "</g>\r\n",
       "<!-- External_Site_A -->\r\n",
       "<g id=\"node9\" class=\"node\"><title>External_Site_A</title>\r\n",
       "<ellipse fill=\"none\" stroke=\"black\" cx=\"542.205\" cy=\"-21.9203\" rx=\"69.5877\" ry=\"18\"/>\r\n",
       "<text text-anchor=\"middle\" x=\"542.205\" y=\"-18.2203\" font-family=\"Times New Roman,serif\" font-size=\"14.00\">External_Site_A</text>\r\n",
       "</g>\r\n",
       "<!-- Links&#45;&gt;External_Site_A -->\r\n",
       "<g id=\"edge7\" class=\"edge\"><title>Links&#45;&gt;External_Site_A</title>\r\n",
       "<path fill=\"none\" stroke=\"black\" d=\"M429.198,-85.7525C450.899,-73.6868 481.602,-56.6154 505.53,-43.3115\"/>\r\n",
       "<polygon fill=\"black\" stroke=\"black\" points=\"507.297,-46.3339 514.336,-38.4155 503.895,-40.216 507.297,-46.3339\"/>\r\n",
       "</g>\r\n",
       "<!-- External_Site_B -->\r\n",
       "<g id=\"node10\" class=\"node\"><title>External_Site_B</title>\r\n",
       "<ellipse fill=\"none\" stroke=\"black\" cx=\"699.205\" cy=\"-21.9203\" rx=\"69.5877\" ry=\"18\"/>\r\n",
       "<text text-anchor=\"middle\" x=\"699.205\" y=\"-18.2203\" font-family=\"Times New Roman,serif\" font-size=\"14.00\">External_Site_B</text>\r\n",
       "</g>\r\n",
       "<!-- Links&#45;&gt;External_Site_B -->\r\n",
       "<g id=\"edge8\" class=\"edge\"><title>Links&#45;&gt;External_Site_B</title>\r\n",
       "<path fill=\"none\" stroke=\"black\" d=\"M437.121,-91.7747C480.36,-80.6263 556.255,-60.9909 621.205,-43.8406 628.194,-41.995 635.533,-40.0441 642.796,-38.1053\"/>\r\n",
       "<polygon fill=\"black\" stroke=\"black\" points=\"643.857,-41.4446 652.613,-35.4799 642.048,-34.6822 643.857,-41.4446\"/>\r\n",
       "</g>\r\n",
       "<!-- External_Site_C -->\r\n",
       "<g id=\"node11\" class=\"node\"><title>External_Site_C</title>\r\n",
       "<ellipse fill=\"none\" stroke=\"black\" cx=\"856.205\" cy=\"-21.9203\" rx=\"69.5877\" ry=\"18\"/>\r\n",
       "<text text-anchor=\"middle\" x=\"856.205\" y=\"-18.2203\" font-family=\"Times New Roman,serif\" font-size=\"14.00\">External_Site_C</text>\r\n",
       "</g>\r\n",
       "<!-- Links&#45;&gt;External_Site_C -->\r\n",
       "<g id=\"edge9\" class=\"edge\"><title>Links&#45;&gt;External_Site_C</title>\r\n",
       "<path fill=\"none\" stroke=\"black\" d=\"M440.078,-96.4497C508.165,-88.3841 655.581,-69.4828 778.205,-43.8406 785.828,-42.2466 793.815,-40.3593 801.649,-38.3812\"/>\r\n",
       "<polygon fill=\"black\" stroke=\"black\" points=\"802.649,-41.7378 811.452,-35.8422 800.894,-34.9614 802.649,-41.7378\"/>\r\n",
       "</g>\r\n",
       "<!-- External_Site_D -->\r\n",
       "<g id=\"node12\" class=\"node\"><title>External_Site_D</title>\r\n",
       "<ellipse fill=\"none\" stroke=\"black\" cx=\"1013.2\" cy=\"-21.9203\" rx=\"69.5877\" ry=\"18\"/>\r\n",
       "<text text-anchor=\"middle\" x=\"1013.2\" y=\"-18.2203\" font-family=\"Times New Roman,serif\" font-size=\"14.00\">External_Site_D</text>\r\n",
       "</g>\r\n",
       "<!-- Links&#45;&gt;External_Site_D -->\r\n",
       "<g id=\"edge10\" class=\"edge\"><title>Links&#45;&gt;External_Site_D</title>\r\n",
       "<path fill=\"none\" stroke=\"black\" d=\"M440.963,-98.695C529.281,-93.5366 752.003,-77.9762 935.205,-43.8406 943.142,-42.3617 951.455,-40.4896 959.573,-38.476\"/>\r\n",
       "<polygon fill=\"black\" stroke=\"black\" points=\"960.526,-41.8449 969.341,-35.9665 958.784,-35.065 960.526,-41.8449\"/>\r\n",
       "</g>\r\n",
       "<!-- Review_A&#45;&gt;Home -->\r\n",
       "<g id=\"edge15\" class=\"edge\"><title>Review_A&#45;&gt;Home</title>\r\n",
       "<path fill=\"none\" stroke=\"black\" d=\"M88.2784,-36.2739C127.962,-50.4739 185.458,-71.9523 193.205,-79.8406 211.75,-98.7266 221.405,-127.541 226.331,-149.526\"/>\r\n",
       "<polygon fill=\"black\" stroke=\"black\" points=\"222.914,-150.287 228.332,-159.391 229.774,-148.895 222.914,-150.287\"/>\r\n",
       "</g>\r\n",
       "<!-- Review_B&#45;&gt;Home -->\r\n",
       "<g id=\"edge16\" class=\"edge\"><title>Review_B&#45;&gt;Home</title>\r\n",
       "<path fill=\"none\" stroke=\"black\" d=\"M194.046,-40.9694C206.09,-50.9249 219.267,-64.3971 226.205,-79.8406 235.983,-101.609 236.769,-128.748 235.365,-149.375\"/>\r\n",
       "<polygon fill=\"black\" stroke=\"black\" points=\"231.864,-149.235 234.467,-159.505 238.836,-149.853 231.864,-149.235\"/>\r\n",
       "</g>\r\n",
       "<!-- Review_C&#45;&gt;Home -->\r\n",
       "<g id=\"edge17\" class=\"edge\"><title>Review_C&#45;&gt;Home</title>\r\n",
       "<path fill=\"none\" stroke=\"black\" d=\"M283.559,-43.9249C280.497,-64.6989 274.504,-97.1403 264.205,-123.681 260.463,-133.323 255.239,-143.266 250.051,-152.089\"/>\r\n",
       "<polygon fill=\"black\" stroke=\"black\" points=\"246.944,-150.462 244.72,-160.82 252.918,-154.11 246.944,-150.462\"/>\r\n",
       "</g>\r\n",
       "<!-- Review_D&#45;&gt;Home -->\r\n",
       "<g id=\"edge18\" class=\"edge\"><title>Review_D&#45;&gt;Home</title>\r\n",
       "<path fill=\"none\" stroke=\"black\" d=\"M383.248,-42.0213C351.967,-70.5327 293.047,-124.235 258.458,-155.761\"/>\r\n",
       "<polygon fill=\"black\" stroke=\"black\" points=\"256.083,-153.19 251.05,-162.514 260.798,-158.364 256.083,-153.19\"/>\r\n",
       "</g>\r\n",
       "</g>\r\n",
       "</svg>\r\n"
      ],
      "text/plain": [
       "<graphviz.files.Source at 0x28ec7f17940>"
      ]
     },
     "execution_count": 11,
     "metadata": {},
     "output_type": "execute_result"
    }
   ],
   "source": [
    "pages = {\n",
    "    \"Home\": [\"About\", \"Product\", \"Links\"],\n",
    "    \"About\": [\"Home\"],\n",
    "    \"Product\": [\"Home\"],\n",
    "    \"Links\": [\"Home\",\n",
    "              \"External Site A\", \"External Site B\", \n",
    "              \"External Site C\", \"External Site D\",\n",
    "              \"Review A\", \"Review B\", \"Review C\", \"Review D\"],\n",
    "    \"Review A\": [\"Home\"],\n",
    "    \"Review B\": [\"Home\"],\n",
    "    \"Review C\": [\"Home\"],\n",
    "    \"Review D\": [\"Home\"]\n",
    "}\n",
    "\n",
    "pr = PageRank(pages, initial_guess=1)\n",
    "pr.calculate(20, report=True, report_every=20, rep_function=report)\n",
    "print(\"Average PR: %.3f\" % pr.get_avg())\n",
    "pr.get_digraph(show_pr=True)"
   ]
  },
  {
   "cell_type": "markdown",
   "metadata": {},
   "source": [
    "### Example 5  \n",
    "A simple hierarchy  "
   ]
  },
  {
   "cell_type": "code",
   "execution_count": 12,
   "metadata": {},
   "outputs": [
    {
     "name": "stdout",
     "output_type": "stream",
     "text": [
      "Iteration 20\n",
      "\tMore: 0.693938\n",
      "\tHome: 1.919541\n",
      "\tProduct: 0.693870\n",
      "\tAbout: 0.693870\n",
      "Average PR: 1.000\n"
     ]
    },
    {
     "data": {
      "image/svg+xml": [
       "<?xml version=\"1.0\" encoding=\"UTF-8\" standalone=\"no\"?>\r\n",
       "<!DOCTYPE svg PUBLIC \"-//W3C//DTD SVG 1.1//EN\"\r\n",
       " \"http://www.w3.org/Graphics/SVG/1.1/DTD/svg11.dtd\">\r\n",
       "<!-- Generated by graphviz version 2.38.0 (20140413.2041)\r\n",
       " -->\r\n",
       "<!-- Title: G Pages: 1 -->\r\n",
       "<svg width=\"288pt\" height=\"132pt\"\r\n",
       " viewBox=\"0.00 0.00 287.78 131.68\" xmlns=\"http://www.w3.org/2000/svg\" xmlns:xlink=\"http://www.w3.org/1999/xlink\">\r\n",
       "<g id=\"graph0\" class=\"graph\" transform=\"scale(1 1) rotate(0) translate(4 127.681)\">\r\n",
       "<title>G</title>\r\n",
       "<polygon fill=\"white\" stroke=\"none\" points=\"-4,4 -4,-127.681 283.782,-127.681 283.782,4 -4,4\"/>\r\n",
       "<!-- Home -->\r\n",
       "<g id=\"node1\" class=\"node\"><title>Home</title>\r\n",
       "<ellipse fill=\"none\" stroke=\"black\" cx=\"139.891\" cy=\"-101.761\" rx=\"38.7821\" ry=\"21.8409\"/>\r\n",
       "<text text-anchor=\"start\" x=\"122.891\" y=\"-103.061\" font-family=\"Times New Roman,serif\" font-size=\"14.00\">Home</text>\r\n",
       "<text text-anchor=\"start\" x=\"120.391\" y=\"-93.0609\" font-family=\"Times New Roman,serif\" font-size=\"9.00\">PR 1.9195</text>\r\n",
       "</g>\r\n",
       "<!-- About -->\r\n",
       "<g id=\"node2\" class=\"node\"><title>About</title>\r\n",
       "<ellipse fill=\"none\" stroke=\"black\" cx=\"38.8909\" cy=\"-21.9203\" rx=\"38.7821\" ry=\"21.8409\"/>\r\n",
       "<text text-anchor=\"start\" x=\"20.8909\" y=\"-23.2203\" font-family=\"Times New Roman,serif\" font-size=\"14.00\">About</text>\r\n",
       "<text text-anchor=\"start\" x=\"19.3909\" y=\"-13.2203\" font-family=\"Times New Roman,serif\" font-size=\"9.00\">PR 0.6939</text>\r\n",
       "</g>\r\n",
       "<!-- Home&#45;&gt;About -->\r\n",
       "<g id=\"edge1\" class=\"edge\"><title>Home&#45;&gt;About</title>\r\n",
       "<path fill=\"none\" stroke=\"black\" d=\"M114.168,-85.1958C99.0954,-74.5644 80.2371,-60.2435 65.0959,-48.0153\"/>\r\n",
       "<polygon fill=\"black\" stroke=\"black\" points=\"67.0672,-45.1056 57.1143,-41.4739 62.6301,-50.5197 67.0672,-45.1056\"/>\r\n",
       "</g>\r\n",
       "<!-- Product -->\r\n",
       "<g id=\"node3\" class=\"node\"><title>Product</title>\r\n",
       "<ellipse fill=\"none\" stroke=\"black\" cx=\"139.891\" cy=\"-21.9203\" rx=\"43.6818\" ry=\"21.8409\"/>\r\n",
       "<text text-anchor=\"start\" x=\"116.891\" y=\"-23.2203\" font-family=\"Times New Roman,serif\" font-size=\"14.00\">Product</text>\r\n",
       "<text text-anchor=\"start\" x=\"120.391\" y=\"-13.2203\" font-family=\"Times New Roman,serif\" font-size=\"9.00\">PR 0.6939</text>\r\n",
       "</g>\r\n",
       "<!-- Home&#45;&gt;Product -->\r\n",
       "<g id=\"edge2\" class=\"edge\"><title>Home&#45;&gt;Product</title>\r\n",
       "<path fill=\"none\" stroke=\"black\" d=\"M133.833,-79.9011C133.178,-71.961 132.988,-62.7325 133.263,-54.0444\"/>\r\n",
       "<polygon fill=\"black\" stroke=\"black\" points=\"136.77,-54.0162 133.829,-43.8377 129.78,-53.6286 136.77,-54.0162\"/>\r\n",
       "</g>\r\n",
       "<!-- More -->\r\n",
       "<g id=\"node4\" class=\"node\"><title>More</title>\r\n",
       "<ellipse fill=\"none\" stroke=\"black\" cx=\"240.891\" cy=\"-21.9203\" rx=\"38.7821\" ry=\"21.8409\"/>\r\n",
       "<text text-anchor=\"start\" x=\"225.391\" y=\"-23.2203\" font-family=\"Times New Roman,serif\" font-size=\"14.00\">More</text>\r\n",
       "<text text-anchor=\"start\" x=\"221.391\" y=\"-13.2203\" font-family=\"Times New Roman,serif\" font-size=\"9.00\">PR 0.6939</text>\r\n",
       "</g>\r\n",
       "<!-- Home&#45;&gt;More -->\r\n",
       "<g id=\"edge3\" class=\"edge\"><title>Home&#45;&gt;More</title>\r\n",
       "<path fill=\"none\" stroke=\"black\" d=\"M157.987,-82.3138C171.578,-70.9815 190.39,-56.4121 206.721,-44.5395\"/>\r\n",
       "<polygon fill=\"black\" stroke=\"black\" points=\"208.907,-47.2792 214.995,-38.6081 204.828,-41.5901 208.907,-47.2792\"/>\r\n",
       "</g>\r\n",
       "<!-- About&#45;&gt;Home -->\r\n",
       "<g id=\"edge4\" class=\"edge\"><title>About&#45;&gt;Home</title>\r\n",
       "<path fill=\"none\" stroke=\"black\" d=\"M64.7872,-38.6081C79.8805,-49.2616 98.7259,-63.5782 113.834,-75.7856\"/>\r\n",
       "<polygon fill=\"black\" stroke=\"black\" points=\"111.843,-78.6794 121.795,-82.3138 116.282,-73.2665 111.843,-78.6794\"/>\r\n",
       "</g>\r\n",
       "<!-- Product&#45;&gt;Home -->\r\n",
       "<g id=\"edge5\" class=\"edge\"><title>Product&#45;&gt;Home</title>\r\n",
       "<path fill=\"none\" stroke=\"black\" d=\"M145.953,-43.8377C146.606,-51.784 146.794,-61.0144 146.517,-69.6999\"/>\r\n",
       "<polygon fill=\"black\" stroke=\"black\" points=\"143.01,-69.7217 145.948,-79.9011 150,-70.1114 143.01,-69.7217\"/>\r\n",
       "</g>\r\n",
       "<!-- More&#45;&gt;Home -->\r\n",
       "<g id=\"edge6\" class=\"edge\"><title>More&#45;&gt;Home</title>\r\n",
       "<path fill=\"none\" stroke=\"black\" d=\"M222.667,-41.4739C209.035,-52.8329 190.202,-67.4143 173.879,-79.2737\"/>\r\n",
       "<polygon fill=\"black\" stroke=\"black\" points=\"171.704,-76.5266 165.613,-85.1958 175.781,-82.2169 171.704,-76.5266\"/>\r\n",
       "</g>\r\n",
       "</g>\r\n",
       "</svg>\r\n"
      ],
      "text/plain": [
       "<graphviz.files.Source at 0x28ec7ee06a0>"
      ]
     },
     "execution_count": 12,
     "metadata": {},
     "output_type": "execute_result"
    }
   ],
   "source": [
    "pages = {\n",
    "    \"Home\": [\"About\", \"Product\", \"More\"],\n",
    "    \"About\": [\"Home\"],\n",
    "    \"Product\": [\"Home\"],\n",
    "    \"More\": [\"Home\"]\n",
    "}\n",
    "\n",
    "pr = PageRank(pages, initial_guess=1)\n",
    "pr.calculate(20, report=True, report_every=20, rep_function=report)\n",
    "print(\"Average PR: %.3f\" % pr.get_avg())\n",
    "pr.get_digraph(show_pr=True)"
   ]
  },
  {
   "cell_type": "markdown",
   "metadata": {},
   "source": [
    "Our home page has 2 and a half times as much PR as the child pages! Excellent!\n",
    "\n",
    " - **Observation**: a hierarchy concentrates votes and PR into one page"
   ]
  },
  {
   "cell_type": "markdown",
   "metadata": {},
   "source": [
    "### Example 6  \n",
    "Looping"
   ]
  },
  {
   "cell_type": "code",
   "execution_count": 13,
   "metadata": {},
   "outputs": [
    {
     "name": "stdout",
     "output_type": "stream",
     "text": [
      "Iteration 20\n",
      "\tMore: 1.000000\n",
      "\tHome: 1.000000\n",
      "\tProduct: 1.000000\n",
      "\tAbout: 1.000000\n",
      "Average PR: 1.000\n"
     ]
    },
    {
     "data": {
      "image/svg+xml": [
       "<?xml version=\"1.0\" encoding=\"UTF-8\" standalone=\"no\"?>\r\n",
       "<!DOCTYPE svg PUBLIC \"-//W3C//DTD SVG 1.1//EN\"\r\n",
       " \"http://www.w3.org/Graphics/SVG/1.1/DTD/svg11.dtd\">\r\n",
       "<!-- Generated by graphviz version 2.38.0 (20140413.2041)\r\n",
       " -->\r\n",
       "<!-- Title: G Pages: 1 -->\r\n",
       "<svg width=\"129pt\" height=\"291pt\"\r\n",
       " viewBox=\"0.00 0.00 128.73 291.36\" xmlns=\"http://www.w3.org/2000/svg\" xmlns:xlink=\"http://www.w3.org/1999/xlink\">\r\n",
       "<g id=\"graph0\" class=\"graph\" transform=\"scale(1 1) rotate(0) translate(4 287.362)\">\r\n",
       "<title>G</title>\r\n",
       "<polygon fill=\"white\" stroke=\"none\" points=\"-4,4 -4,-287.362 124.731,-287.362 124.731,4 -4,4\"/>\r\n",
       "<!-- Home -->\r\n",
       "<g id=\"node1\" class=\"node\"><title>Home</title>\r\n",
       "<ellipse fill=\"none\" stroke=\"black\" cx=\"81.8406\" cy=\"-261.442\" rx=\"38.7821\" ry=\"21.8409\"/>\r\n",
       "<text text-anchor=\"start\" x=\"64.8406\" y=\"-262.742\" font-family=\"Times New Roman,serif\" font-size=\"14.00\">Home</text>\r\n",
       "<text text-anchor=\"start\" x=\"62.3406\" y=\"-252.742\" font-family=\"Times New Roman,serif\" font-size=\"9.00\">PR 1.0000</text>\r\n",
       "</g>\r\n",
       "<!-- About -->\r\n",
       "<g id=\"node2\" class=\"node\"><title>About</title>\r\n",
       "<ellipse fill=\"none\" stroke=\"black\" cx=\"45.8406\" cy=\"-181.602\" rx=\"38.7821\" ry=\"21.8409\"/>\r\n",
       "<text text-anchor=\"start\" x=\"27.8406\" y=\"-182.902\" font-family=\"Times New Roman,serif\" font-size=\"14.00\">About</text>\r\n",
       "<text text-anchor=\"start\" x=\"26.3406\" y=\"-172.902\" font-family=\"Times New Roman,serif\" font-size=\"9.00\">PR 1.0000</text>\r\n",
       "</g>\r\n",
       "<!-- Home&#45;&gt;About -->\r\n",
       "<g id=\"edge1\" class=\"edge\"><title>Home&#45;&gt;About</title>\r\n",
       "<path fill=\"none\" stroke=\"black\" d=\"M72.382,-239.99C68.4548,-231.499 63.8214,-221.48 59.5342,-212.21\"/>\r\n",
       "<polygon fill=\"black\" stroke=\"black\" points=\"62.6105,-210.524 55.236,-202.917 56.257,-213.462 62.6105,-210.524\"/>\r\n",
       "</g>\r\n",
       "<!-- Product -->\r\n",
       "<g id=\"node3\" class=\"node\"><title>Product</title>\r\n",
       "<ellipse fill=\"none\" stroke=\"black\" cx=\"43.8406\" cy=\"-101.761\" rx=\"43.6818\" ry=\"21.8409\"/>\r\n",
       "<text text-anchor=\"start\" x=\"20.8406\" y=\"-103.061\" font-family=\"Times New Roman,serif\" font-size=\"14.00\">Product</text>\r\n",
       "<text text-anchor=\"start\" x=\"24.3406\" y=\"-93.0609\" font-family=\"Times New Roman,serif\" font-size=\"9.00\">PR 1.0000</text>\r\n",
       "</g>\r\n",
       "<!-- About&#45;&gt;Product -->\r\n",
       "<g id=\"edge2\" class=\"edge\"><title>About&#45;&gt;Product</title>\r\n",
       "<path fill=\"none\" stroke=\"black\" d=\"M45.2941,-159.331C45.0918,-151.459 44.8582,-142.364 44.6381,-133.8\"/>\r\n",
       "<polygon fill=\"black\" stroke=\"black\" points=\"48.1353,-133.643 44.3795,-123.736 41.1376,-133.823 48.1353,-133.643\"/>\r\n",
       "</g>\r\n",
       "<!-- More -->\r\n",
       "<g id=\"node4\" class=\"node\"><title>More</title>\r\n",
       "<ellipse fill=\"none\" stroke=\"black\" cx=\"79.8406\" cy=\"-21.9203\" rx=\"38.7821\" ry=\"21.8409\"/>\r\n",
       "<text text-anchor=\"start\" x=\"64.3406\" y=\"-23.2203\" font-family=\"Times New Roman,serif\" font-size=\"14.00\">More</text>\r\n",
       "<text text-anchor=\"start\" x=\"60.3406\" y=\"-13.2203\" font-family=\"Times New Roman,serif\" font-size=\"9.00\">PR 1.0000</text>\r\n",
       "</g>\r\n",
       "<!-- Product&#45;&gt;More -->\r\n",
       "<g id=\"edge3\" class=\"edge\"><title>Product&#45;&gt;More</title>\r\n",
       "<path fill=\"none\" stroke=\"black\" d=\"M53.2992,-80.3092C57.2264,-71.8176 61.8598,-61.7991 66.147,-52.5292\"/>\r\n",
       "<polygon fill=\"black\" stroke=\"black\" points=\"69.4242,-53.781 70.4452,-43.2354 63.0708,-50.8426 69.4242,-53.781\"/>\r\n",
       "</g>\r\n",
       "<!-- More&#45;&gt;Home -->\r\n",
       "<g id=\"edge4\" class=\"edge\"><title>More&#45;&gt;Home</title>\r\n",
       "<path fill=\"none\" stroke=\"black\" d=\"M87.5317,-43.4112C91.1395,-54.1012 95.0361,-67.4927 96.8406,-79.8406 104.792,-134.248 100.569,-148.949 93.8406,-203.522 92.7864,-212.073 91.1021,-221.246 89.3248,-229.677\"/>\r\n",
       "<polygon fill=\"black\" stroke=\"black\" points=\"85.8943,-228.981 87.1469,-239.501 92.7284,-230.496 85.8943,-228.981\"/>\r\n",
       "</g>\r\n",
       "</g>\r\n",
       "</svg>\r\n"
      ],
      "text/plain": [
       "<graphviz.files.Source at 0x28ec7ee0278>"
      ]
     },
     "execution_count": 13,
     "metadata": {},
     "output_type": "execute_result"
    }
   ],
   "source": [
    "pages = {\n",
    "    \"Home\": [\"About\"],\n",
    "    \"About\": [\"Product\"],\n",
    "    \"Product\": [\"More\"],\n",
    "    \"More\": [\"Home\"]\n",
    "}\n",
    "\n",
    "pr = PageRank(pages, initial_guess=1)\n",
    "pr.calculate(20, report=True, report_every=20, rep_function=report)\n",
    "print(\"Average PR: %.3f\" % pr.get_avg())\n",
    "pr.get_digraph(show_pr=True)"
   ]
  },
  {
   "cell_type": "markdown",
   "metadata": {},
   "source": [
    "This is what we’d expect. All the pages have the same number of incoming links, all pages are of equal importance to each other, all pages get the same PR of 1.0 (i.e. the “average” probability)."
   ]
  },
  {
   "cell_type": "markdown",
   "metadata": {},
   "source": [
    "### Example 7  \n",
    "Extensive Interlinking – or Fully Meshed"
   ]
  },
  {
   "cell_type": "code",
   "execution_count": 14,
   "metadata": {},
   "outputs": [
    {
     "name": "stdout",
     "output_type": "stream",
     "text": [
      "Iteration 20\n",
      "\tMore: 1.000000\n",
      "\tHome: 1.000000\n",
      "\tProduct: 1.000000\n",
      "\tAbout: 1.000000\n",
      "Average PR: 1.000\n"
     ]
    },
    {
     "data": {
      "image/svg+xml": [
       "<?xml version=\"1.0\" encoding=\"UTF-8\" standalone=\"no\"?>\r\n",
       "<!DOCTYPE svg PUBLIC \"-//W3C//DTD SVG 1.1//EN\"\r\n",
       " \"http://www.w3.org/Graphics/SVG/1.1/DTD/svg11.dtd\">\r\n",
       "<!-- Generated by graphviz version 2.38.0 (20140413.2041)\r\n",
       " -->\r\n",
       "<!-- Title: G Pages: 1 -->\r\n",
       "<svg width=\"177pt\" height=\"291pt\"\r\n",
       " viewBox=\"0.00 0.00 176.92 291.36\" xmlns=\"http://www.w3.org/2000/svg\" xmlns:xlink=\"http://www.w3.org/1999/xlink\">\r\n",
       "<g id=\"graph0\" class=\"graph\" transform=\"scale(1 1) rotate(0) translate(4 287.362)\">\r\n",
       "<title>G</title>\r\n",
       "<polygon fill=\"white\" stroke=\"none\" points=\"-4,4 -4,-287.362 172.916,-287.362 172.916,4 -4,4\"/>\r\n",
       "<!-- Home -->\r\n",
       "<g id=\"node1\" class=\"node\"><title>Home</title>\r\n",
       "<ellipse fill=\"none\" stroke=\"black\" cx=\"114.891\" cy=\"-261.442\" rx=\"38.7821\" ry=\"21.8409\"/>\r\n",
       "<text text-anchor=\"start\" x=\"97.8909\" y=\"-262.742\" font-family=\"Times New Roman,serif\" font-size=\"14.00\">Home</text>\r\n",
       "<text text-anchor=\"start\" x=\"95.3909\" y=\"-252.742\" font-family=\"Times New Roman,serif\" font-size=\"9.00\">PR 1.0000</text>\r\n",
       "</g>\r\n",
       "<!-- About -->\r\n",
       "<g id=\"node2\" class=\"node\"><title>About</title>\r\n",
       "<ellipse fill=\"none\" stroke=\"black\" cx=\"38.8909\" cy=\"-181.602\" rx=\"38.7821\" ry=\"21.8409\"/>\r\n",
       "<text text-anchor=\"start\" x=\"20.8909\" y=\"-182.902\" font-family=\"Times New Roman,serif\" font-size=\"14.00\">About</text>\r\n",
       "<text text-anchor=\"start\" x=\"19.3909\" y=\"-172.902\" font-family=\"Times New Roman,serif\" font-size=\"9.00\">PR 1.0000</text>\r\n",
       "</g>\r\n",
       "<!-- Home&#45;&gt;About -->\r\n",
       "<g id=\"edge1\" class=\"edge\"><title>Home&#45;&gt;About</title>\r\n",
       "<path fill=\"none\" stroke=\"black\" d=\"M92.304,-243.167C81.6631,-233.341 69.1862,-220.816 58.8923,-209.71\"/>\r\n",
       "<polygon fill=\"black\" stroke=\"black\" points=\"61.4767,-207.349 52.1639,-202.297 56.2936,-212.054 61.4767,-207.349\"/>\r\n",
       "</g>\r\n",
       "<!-- Product -->\r\n",
       "<g id=\"node3\" class=\"node\"><title>Product</title>\r\n",
       "<ellipse fill=\"none\" stroke=\"black\" cx=\"104.891\" cy=\"-21.9203\" rx=\"43.6818\" ry=\"21.8409\"/>\r\n",
       "<text text-anchor=\"start\" x=\"81.8909\" y=\"-23.2203\" font-family=\"Times New Roman,serif\" font-size=\"14.00\">Product</text>\r\n",
       "<text text-anchor=\"start\" x=\"85.3909\" y=\"-13.2203\" font-family=\"Times New Roman,serif\" font-size=\"9.00\">PR 1.0000</text>\r\n",
       "</g>\r\n",
       "<!-- Home&#45;&gt;Product -->\r\n",
       "<g id=\"edge2\" class=\"edge\"><title>Home&#45;&gt;Product</title>\r\n",
       "<path fill=\"none\" stroke=\"black\" d=\"M121.014,-239.597C135.173,-205.415 164.288,-135.667 143.891,-79.8406 139.991,-69.1673 133.11,-59.1125 126.119,-50.5099\"/>\r\n",
       "<polygon fill=\"black\" stroke=\"black\" points=\"128.633,-48.0642 119.476,-42.7343 123.311,-52.611 128.633,-48.0642\"/>\r\n",
       "</g>\r\n",
       "<!-- More -->\r\n",
       "<g id=\"node4\" class=\"node\"><title>More</title>\r\n",
       "<ellipse fill=\"none\" stroke=\"black\" cx=\"104.891\" cy=\"-101.761\" rx=\"38.7821\" ry=\"21.8409\"/>\r\n",
       "<text text-anchor=\"start\" x=\"89.3909\" y=\"-103.061\" font-family=\"Times New Roman,serif\" font-size=\"14.00\">More</text>\r\n",
       "<text text-anchor=\"start\" x=\"85.3909\" y=\"-93.0609\" font-family=\"Times New Roman,serif\" font-size=\"9.00\">PR 1.0000</text>\r\n",
       "</g>\r\n",
       "<!-- Home&#45;&gt;More -->\r\n",
       "<g id=\"edge3\" class=\"edge\"><title>Home&#45;&gt;More</title>\r\n",
       "<path fill=\"none\" stroke=\"black\" d=\"M108.803,-239.503C104.721,-212.525 101.479,-165.389 101.364,-134.124\"/>\r\n",
       "<polygon fill=\"black\" stroke=\"black\" points=\"104.866,-133.818 101.457,-123.786 97.8666,-133.754 104.866,-133.818\"/>\r\n",
       "</g>\r\n",
       "<!-- About&#45;&gt;Home -->\r\n",
       "<g id=\"edge5\" class=\"edge\"><title>About&#45;&gt;Home</title>\r\n",
       "<path fill=\"none\" stroke=\"black\" d=\"M61.1709,-199.594C71.874,-209.458 84.4867,-222.111 94.8774,-233.321\"/>\r\n",
       "<polygon fill=\"black\" stroke=\"black\" points=\"92.3528,-235.747 101.665,-240.8 97.5361,-231.043 92.3528,-235.747\"/>\r\n",
       "</g>\r\n",
       "<!-- About&#45;&gt;Product -->\r\n",
       "<g id=\"edge4\" class=\"edge\"><title>About&#45;&gt;Product</title>\r\n",
       "<path fill=\"none\" stroke=\"black\" d=\"M32.6887,-159.579C31.8023,-138.505 35.8144,-105.581 47.8909,-79.8406 53.5229,-67.8362 62.3483,-56.3131 71.4825,-46.8129\"/>\r\n",
       "<polygon fill=\"black\" stroke=\"black\" points=\"74.1042,-49.145 78.8192,-39.6572 69.2166,-44.1339 74.1042,-49.145\"/>\r\n",
       "</g>\r\n",
       "<!-- About&#45;&gt;More -->\r\n",
       "<g id=\"edge6\" class=\"edge\"><title>About&#45;&gt;More</title>\r\n",
       "<path fill=\"none\" stroke=\"black\" d=\"M49.8993,-160.556C57.5059,-150.551 67.7295,-138.351 77.3592,-127.743\"/>\r\n",
       "<polygon fill=\"black\" stroke=\"black\" points=\"79.9805,-130.064 84.2202,-120.354 74.8509,-125.301 79.9805,-130.064\"/>\r\n",
       "</g>\r\n",
       "<!-- Product&#45;&gt;Home -->\r\n",
       "<g id=\"edge8\" class=\"edge\"><title>Product&#45;&gt;Home</title>\r\n",
       "<path fill=\"none\" stroke=\"black\" d=\"M131.959,-39.2424C143.836,-49.6249 156.124,-64.0565 161.891,-79.8406 180.917,-131.917 156.861,-196.106 136.492,-232.241\"/>\r\n",
       "<polygon fill=\"black\" stroke=\"black\" points=\"133.252,-230.843 131.153,-241.228 139.27,-234.418 133.252,-230.843\"/>\r\n",
       "</g>\r\n",
       "<!-- Product&#45;&gt;About -->\r\n",
       "<g id=\"edge9\" class=\"edge\"><title>Product&#45;&gt;About</title>\r\n",
       "<path fill=\"none\" stroke=\"black\" d=\"M91.6272,-42.9302C82.893,-53.0825 72.3148,-66.1485 65.8909,-79.8406 55.5428,-101.897 51.1159,-129.229 47.8535,-149.859\"/>\r\n",
       "<polygon fill=\"black\" stroke=\"black\" points=\"44.3592,-149.544 46.2285,-159.973 51.2706,-150.655 44.3592,-149.544\"/>\r\n",
       "</g>\r\n",
       "<!-- Product&#45;&gt;More -->\r\n",
       "<g id=\"edge7\" class=\"edge\"><title>Product&#45;&gt;More</title>\r\n",
       "<path fill=\"none\" stroke=\"black\" d=\"M110.953,-43.8377C111.606,-51.784 111.794,-61.0144 111.517,-69.6999\"/>\r\n",
       "<polygon fill=\"black\" stroke=\"black\" points=\"108.01,-69.7217 110.948,-79.9011 115,-70.1114 108.01,-69.7217\"/>\r\n",
       "</g>\r\n",
       "<!-- More&#45;&gt;Home -->\r\n",
       "<g id=\"edge10\" class=\"edge\"><title>More&#45;&gt;Home</title>\r\n",
       "<path fill=\"none\" stroke=\"black\" d=\"M110.992,-123.786C115.072,-150.807 118.309,-197.949 118.419,-229.179\"/>\r\n",
       "<polygon fill=\"black\" stroke=\"black\" points=\"114.916,-229.471 118.323,-239.503 121.916,-229.536 114.916,-229.471\"/>\r\n",
       "</g>\r\n",
       "<!-- More&#45;&gt;About -->\r\n",
       "<g id=\"edge12\" class=\"edge\"><title>More&#45;&gt;About</title>\r\n",
       "<path fill=\"none\" stroke=\"black\" d=\"M93.8692,-122.824C86.278,-132.807 76.0842,-144.972 66.4756,-155.561\"/>\r\n",
       "<polygon fill=\"black\" stroke=\"black\" points=\"63.8657,-153.228 59.6281,-162.938 68.9964,-157.99 63.8657,-153.228\"/>\r\n",
       "</g>\r\n",
       "<!-- More&#45;&gt;Product -->\r\n",
       "<g id=\"edge11\" class=\"edge\"><title>More&#45;&gt;Product</title>\r\n",
       "<path fill=\"none\" stroke=\"black\" d=\"M98.8334,-79.9011C98.1781,-71.961 97.9878,-62.7325 98.2627,-54.0444\"/>\r\n",
       "<polygon fill=\"black\" stroke=\"black\" points=\"101.77,-54.0162 98.8287,-43.8377 94.7803,-53.6286 101.77,-54.0162\"/>\r\n",
       "</g>\r\n",
       "</g>\r\n",
       "</svg>\r\n"
      ],
      "text/plain": [
       "<graphviz.files.Source at 0x28ec7ee0908>"
      ]
     },
     "execution_count": 14,
     "metadata": {},
     "output_type": "execute_result"
    }
   ],
   "source": [
    "pages = {\n",
    "    \"Home\": [\"About\",\"Product\",\"More\"],\n",
    "    \"About\": [\"Product\",\"Home\",\"More\"],\n",
    "    \"Product\": [\"More\",\"Home\",\"About\"],\n",
    "    \"More\": [\"Home\",\"Product\",\"About\"]\n",
    "}\n",
    "\n",
    "pr = PageRank(pages, initial_guess=1)\n",
    "pr.calculate(20, report=True, report_every=20, rep_function=report)\n",
    "print(\"Average PR: %.3f\" % pr.get_avg())\n",
    "pr.get_digraph(show_pr=True)"
   ]
  },
  {
   "cell_type": "markdown",
   "metadata": {},
   "source": [
    "Yes, the results are the same as the Looping example above and for the same reasons."
   ]
  },
  {
   "cell_type": "markdown",
   "metadata": {},
   "source": [
    "### Example 8 \n",
    "Hierarchical – but with a link in and one out.\n",
    "\n",
    "We’ll assume there’s an external site that has lots of pages and links with the result that one of the pages has the average PR of 1.0. We’ll also assume the webmaster really likes us – there’s just one link from that page and it’s pointing at our home page."
   ]
  },
  {
   "cell_type": "code",
   "execution_count": 15,
   "metadata": {
    "collapsed": true
   },
   "outputs": [],
   "source": [
    "# Missing"
   ]
  },
  {
   "cell_type": "markdown",
   "metadata": {},
   "source": [
    "In example 5 the home page only had a PR of 1.92 but now it is 3.31! Excellent! Not only has site A contributed 0.85 PR to us, but the raised PR in the “About”, “Product” and “More” pages has had a lovely “feedback” effect, pushing up the home page’s PR even further!\n",
    "\n",
    " - Priciple: a well structured site will amplify the effect of any contributed PR"
   ]
  },
  {
   "cell_type": "markdown",
   "metadata": {},
   "source": [
    "### Example 9 \n",
    "Looping – but with a link in and a link out"
   ]
  },
  {
   "cell_type": "code",
   "execution_count": null,
   "metadata": {
    "collapsed": true
   },
   "outputs": [],
   "source": []
  },
  {
   "cell_type": "markdown",
   "metadata": {},
   "source": [
    "Well, the PR of our home page has gone up a little, but what’s happened to the “More” page?\n",
    "\n",
    "The vote of the “Product” page has been split evenly between it and the external site. We now value the external Site B equally with our “More” page. The “More” page is getting only half the vote it had before – this is good for Site B but very bad for us!"
   ]
  },
  {
   "cell_type": "markdown",
   "metadata": {},
   "source": [
    "### Example 10   \n",
    "Fully meshed – but with one vote in and one vote out  "
   ]
  },
  {
   "cell_type": "code",
   "execution_count": null,
   "metadata": {
    "collapsed": true
   },
   "outputs": [],
   "source": []
  },
  {
   "cell_type": "markdown",
   "metadata": {},
   "source": [
    "That’s much better. The “More” page is still getting less share of the vote than in example 7 of course, but now the “Product” page has kept three quarters of its vote within our site - unlike example 10 where it was giving away fully half of it’s vote to the external site!\n",
    "\n",
    "Keeping just this small extra fraction of the vote within our site has had a very nice effect on the Home Page too – PR of 2.28 compared with just 1.66 in example 10.\n",
    "\n",
    " - **Observation**: increasing the internal links in your site can minimise the damage to your PR when you give away votes by linking to external sites. \n",
    " - **Principle**: \n",
    "     - If a particular page is highly important – use a hierarchical structure with the important page at the “top”.\n",
    "     - Where a group of pages may contain outward links – increase the number of internal links to retain as much PR as possible.\n",
    "     - Where a group of pages do not contain outward links – the number of internal links in the site has no effect on the site’s average PR. You might as well use a link structure that gives the user the best navigational experience."
   ]
  },
  {
   "cell_type": "markdown",
   "metadata": {},
   "source": [
    "## Site Maps  \n",
    "Site maps are useful in at least two ways:\n",
    "\n",
    " - If a user types in a bad URL most websites return a really unhelpful “404 – page not found” error page. This can be discouraging. Why not configure your server to return a page that shows an error has been made, but also gives the site map? This can help the user enormously  \n",
    " - Linking to a site map on each page increases the number of internal links in the site, spreading the PR out and protecting you against your vote “donations”\n",
    " "
   ]
  },
  {
   "cell_type": "markdown",
   "metadata": {},
   "source": [
    "### Example 11  \n",
    "Lets try to fix our site to artificially concentrate the PR into the home page."
   ]
  },
  {
   "cell_type": "code",
   "execution_count": null,
   "metadata": {
    "collapsed": true
   },
   "outputs": [],
   "source": []
  },
  {
   "cell_type": "markdown",
   "metadata": {},
   "source": [
    "That looks good, most of the links seem to be pointing up to page A so we should get a nice PR.\n",
    "\n",
    "Try to guess what the PR of A will be before you scroll down or run the code."
   ]
  },
  {
   "cell_type": "code",
   "execution_count": null,
   "metadata": {
    "collapsed": true
   },
   "outputs": [],
   "source": []
  },
  {
   "cell_type": "markdown",
   "metadata": {},
   "source": [
    "Oh dear, that didn’t work at all well – it’s much worse than just an ordinary hierarchy! What’s going on is that pages C and D have such weak incoming links that they’re no help to page A at all!\n",
    "\n",
    " - **Principle**: trying to abuse the PR calculation is harder than you think."
   ]
  },
  {
   "cell_type": "markdown",
   "metadata": {},
   "source": [
    "### Example 12  \n",
    "A common web layout for long documentation is to split the document into many pages with a “Previous” and “Next” link on each plus a link back to the home page. The home page then only needs to point to the first page of the document."
   ]
  },
  {
   "cell_type": "code",
   "execution_count": null,
   "metadata": {
    "collapsed": true
   },
   "outputs": [],
   "source": []
  },
  {
   "cell_type": "markdown",
   "metadata": {},
   "source": [
    "In this simple example, where there’s only one document, the first page of the document has a higher PR than the Home Page! This is because page B is getting all the vote from page A, but page A is only getting fractions of pages B, C and D.\n",
    "\n",
    " - **Principle**: in order to give users of your site a good experience, you may have to take a hit against your PR. There’s nothing you can do about this - and neither should you try to or worry about it! If your site is a pleasure to use lots of other webmasters will link to it and you’ll get back much more PR than you lost.  \n",
    " \n",
    "Can you also see the trend between this and the previous example? As you add more internal links to a site it gets closer to the Fully Meshed example where every page gets the average PR for the mesh.\n",
    "\n",
    " - **Observation**: as you add more internal links in your site, the PR will be spread out more evenly between the pages."
   ]
  },
  {
   "cell_type": "markdown",
   "metadata": {},
   "source": [
    "### Example 13  \n",
    "Getting high PR the wrong way and the right way.\n",
    "\n",
    "Just as an experiment, let’s see if we can get 1,000 pages pointing to our home page, but only have one link leaving it…"
   ]
  },
  {
   "cell_type": "code",
   "execution_count": null,
   "metadata": {
    "collapsed": true
   },
   "outputs": [],
   "source": []
  },
  {
   "cell_type": "markdown",
   "metadata": {},
   "source": [
    "Yup, those spam pages are pretty worthless but they sure add up!\n",
    "\n",
    " - **Observation**: it doesn’t matter how many pages you have in your site, your average PR will always be 1.0 at best. But a hierarchical layout can strongly concentrate votes, and therefore the PR, into the home page!  \n",
    "\n",
    "This is a technique used by some disreputable sites (mostly adult content sites). But I can’t advise this - if Google’s robots decide you’re doing this there’s a good chance you’ll be banned from Google! Disaster!\n",
    "\n",
    "On the other hand there are at least two right ways to do this:"
   ]
  },
  {
   "cell_type": "markdown",
   "metadata": {},
   "source": [
    "## 1. Be a Mega-site\n",
    "\n",
    "Mega-sites, like [http://news.bbc.co.uk](http://news.bbc.co.uk) have tens or hundreds of editors writing new content – i.e. new pages - all day long! Each one of those pages has rich, worthwile content of its own and a link back to its parent or the home page! That’s why the Home page Toolbar PR of these sites is 9/10 and the rest of us just get pushed lower and lower by comparison…\n",
    "\n",
    " - **Principle**: Content Is King! There really is no substitute for lots of good content…"
   ]
  },
  {
   "cell_type": "markdown",
   "metadata": {},
   "source": [
    "## 2. Give away something useful\n",
    "\n",
    "[www.phpbb.com](www.phpbb.com) has a Toolbar PR of 8/10 (at the time of writing) and it has no big money or marketing behind it! How can this be?\n",
    "\n",
    "What the group has done is write a very useful bulletin board system that is becoming very popular on many websites. And at the bottom of every page, in every installation, is this HTML code:  \n",
    "\n",
    "````\n",
    "Powered by <a href=\"http://www.phpbb.com/\" target=\"_blank\">phpBB</a>\n",
    "```\n",
    "\n",
    "The administrator of each installation can remove that link, but most don’t because they want to return the favour…\n",
    "\n",
    "Can you imagine all those millions of pages giving a fraction of a vote to [www.phpbb.com](www.phpbb.com)? Wow!\n",
    "\n",
    " - **Principle**: Make it worth other people’s while to use your content or tools. If your give-away is good enough other site admins will gladly give you a link back. \n",
    " \n",
    " - **Principle**: it’s probably better to get lots (perhaps thousands) of links from sites with small PR than to spend any time or money desperately trying to get just the one link from a high PR page."
   ]
  },
  {
   "cell_type": "markdown",
   "metadata": {},
   "source": [
    "### A Discussion on Averages\n",
    "\n",
    "From the Brin and Page paper, the average Actual PR of all pages in the index is 1.0!\n",
    "\n",
    "So if you add pages to a site you’re building the total PR will go up by 1.0 for each page (but only if you link the pages together so the equation can work), but the average will remain the same.\n",
    "\n",
    "If you want to concentrate the PR into one, or a few, pages then hierarchical linking will do that. If you want to average out the PR amongst the pages then \"fully meshing\" the site (lots of evenly distributed links) will do that - examples 5, 6, and 7 in my above. (NB. this is where Ridings’ goes wrong, in his MiniRank model feedback loops will increase PR - indefinitely!)\n",
    "\n",
    "Getting inbound links to your site is the only way to increase your site's average PR. How that PR is distributed amongst the pages on your site depends on the details of your internal linking and which of your pages are linked to.\n",
    "\n",
    "If you give outbound links to other sites then your site's average PR will decrease (you're not keeping your vote \"in house\" as it were). Again the details of the decrease will depend on the details of the linking.\n",
    "\n",
    "Given that the average of every page is 1.0 we can see that for every site that has an actual ranking in the millions (and there are some!) there must be lots and lots of sites who's Actual PR is below 1.0 (particularly because the absolute lowest Actual PR available is (1 - d)).\n",
    "\n",
    "It may be that the Toolbar PR 1,2 correspond to Actual PR's lower than 1.0! E.g. the logbase for the Toolbar may be 10 but the Actual PR sequence could start quite low: 0.01, 0.1, 1, 10, 100, 1,000 etc..."
   ]
  },
  {
   "cell_type": "markdown",
   "metadata": {},
   "source": [
    "## Finally\n",
    "\n",
    "PageRank is, in fact, very simple (apart from one scary looking formula). But when a simple calculation is applied hundreds (or billions) of times over the results can seem complicated.\n",
    "\n",
    "PageRank is also only part of the story about what results get displayed high up in a Google listing. For example there’s some evidence to suggest that Google is paying a lot of attention these days to the text in a link’s anchor when deciding the relevance of a target page – perhaps more so than the page’s PR…\n",
    "\n",
    "PageRank is still part of the listings story though, so it’s worth your while as a good designer to make sure you understand it correctly."
   ]
  },
  {
   "cell_type": "markdown",
   "metadata": {},
   "source": [
    "## Links\n",
    "\n",
    "- The original PageRank paper by Google’s founders Sergey Brin and Lawrence Page - [http://www-db.stanford.edu/~backrub/google.html](http://www-db.stanford.edu/~backrub/google.html)\n",
    "- Chris Ridings’ “PageRank Explained” paper which, as of April 2002 [http://web.archive.org/web/*/http://www.goodlookingcooking.co.uk/PageRank.pdf](http://web.archive.org/web/*/http://www.goodlookingcooking.co.uk/PageRank.pdf) , contains one major mistake/misunderstanding - http://www.goodlookingcooking.co.uk/PageRank.pdf\n",
    "- Phil Craven’s [PageRank Calculator](http://webworkshop.net/pagerank_calculator.html) (fortunately his figures agree with mine)\n",
    "- A detailed explanation of how easy it is to [alter the PageRank equation by mistake](http://www.iprcom.com/papers/pagerank/altered_equation.html)\n",
    " - An excellent discussion on chad-jams (including “pregnant chad”) by Douglas W. Jones - [http://www.cs.uiowa.edu/~jones/cards/chad.html](http://www.cs.uiowa.edu/~jones/cards/chad.html) - I don’t think many people know the United States’ voting system is this flawed!!!\n",
    "- Discussion forums on this topic:\n",
    "    - [MarketPositionTalk - PageRank updates](http://www.marketpositiontalk.com/forums/index.cfm?cfapp=11)\n",
    "    - [SearchEngineForums - PR documents and calculator](http://searchengineforums.com/Forum28/HTML/002922.html)\n",
    "    - [WebmasterWorld - PR document and calculator](http://www.webmasterworld.com/forum3/3199.htm)"
   ]
  },
  {
   "cell_type": "markdown",
   "metadata": {},
   "source": [
    "## About the Author\n",
    "\n",
    "[Ian Rogers](http://www.ianrogers.net/) first used the Internet in 1986 sending email on a University VAX machine! He first installed a webserver in 1990, taught himself HTML and perl CGI scripting. Since then he has been a Senior Research Fellow in User Interface Design and a consultant in Network Security and Database Backed Websites. He has had an informal interest in topology and the mathematics and behaviour of networks for years and has also been known to do a little Jive dancing.\n",
    "\n",
    "This paper was sponsored by [IPR Computing Ltd – specialists in Secure Networks and Database Backed Websites](http://www.iprcom.com/index.html)"
   ]
  },
  {
   "cell_type": "code",
   "execution_count": null,
   "metadata": {
    "collapsed": true
   },
   "outputs": [],
   "source": []
  }
 ],
 "metadata": {
  "kernelspec": {
   "display_name": "Python 3",
   "language": "python",
   "name": "python3"
  },
  "language_info": {
   "codemirror_mode": {
    "name": "ipython",
    "version": 3
   },
   "file_extension": ".py",
   "mimetype": "text/x-python",
   "name": "python",
   "nbconvert_exporter": "python",
   "pygments_lexer": "ipython3",
   "version": "3.6.2"
  }
 },
 "nbformat": 4,
 "nbformat_minor": 2
}
