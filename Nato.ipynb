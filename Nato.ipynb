{
 "cells": [
  {
   "cell_type": "code",
   "execution_count": 1,
   "metadata": {
    "collapsed": true
   },
   "outputs": [],
   "source": [
    "import pandas as pd"
   ]
  },
  {
   "cell_type": "code",
   "execution_count": 3,
   "metadata": {
    "collapsed": true
   },
   "outputs": [],
   "source": [
    "characters = pd.read_csv(\"Nato/characters.csv\", index_col=0)"
   ]
  },
  {
   "cell_type": "code",
   "execution_count": 18,
   "metadata": {},
   "outputs": [
    {
     "name": "stdout",
     "output_type": "stream",
     "text": [
      "new Character { Char = \"A\", Icao2008 = \"Alfa\", Icao = \"[ˈælfʌ]\", WikipediaIpa=\"/ˈælfɑː/ AL-fah\" },\n",
      "new Character { Char = \"B\", Icao2008 = \"Bravo\", Icao = \"[brɑˈvoʊ]\", WikipediaIpa=\"/ˌbrɑːˈvoʊ/ BRAH-VOH\" },\n",
      "new Character { Char = \"C\", Icao2008 = \"Charlie\", Icao = \"[ˈtʃɑ˞li], [ˈʃɑ˞li]\", WikipediaIpa=\"/ˈtʃɑːrliː/ CHAR-lee or /ˈʃɑːrliː/ SHAR-lee\" },\n",
      "new Character { Char = \"D\", Icao2008 = \"Delta\", Icao = \"[ˈdɛltʌ]\", WikipediaIpa=\"/ˈdɛltɑː/ DEL-tah\" },\n",
      "new Character { Char = \"E\", Icao2008 = \"Echo\", Icao = \"[ˈɛkoʊ]\", WikipediaIpa=\"/ˈɛkoʊ/\" },\n",
      "new Character { Char = \"F\", Icao2008 = \"Foxtrot\", Icao = \"[ˈfɑkstrɑt]\", WikipediaIpa=\"/ˈfɒkstrɒt/ FOKS-trot\" },\n",
      "new Character { Char = \"G\", Icao2008 = \"Golf\", Icao = \"[ˈɡʌl(f)]\", WikipediaIpa=\"/ˈɡɒlf/ GOLF\" },\n",
      "new Character { Char = \"H\", Icao2008 = \"Hotel\", Icao = \"[hoʊˈtɛl]\", WikipediaIpa=\"/hoʊˈtɛl/ hoh-TEL\" },\n",
      "new Character { Char = \"I\", Icao2008 = \"India\", Icao = \"[ˈɪndi.ʌ]\", WikipediaIpa=\"/ˈɪndiːɑː/ IN-dee-ah\" },\n",
      "new Character { Char = \"J\", Icao2008 = \"Juliett\", Icao = \"[ˌdʒuliˈɛt]\", WikipediaIpa=\"/ˈdʒuːliːɛt/ JEW-lee-et or /ˌdʒuːliːˈɛt/ JEW-lee-ET\" },\n",
      "new Character { Char = \"K\", Icao2008 = \"Kilo\", Icao = \"[ˈkiloʊ]\", WikipediaIpa=\"/ˈkiːloʊ/ KEE-loh\" },\n",
      "new Character { Char = \"L\", Icao2008 = \"Lima\", Icao = \"[ˈlimʌ]\", WikipediaIpa=\"/ˈliːmɑː/ LEE-mah\" },\n",
      "new Character { Char = \"M\", Icao2008 = \"Mike\", Icao = \"[ˈmʌɪk]\", WikipediaIpa=\"/ˈmaɪk/ MYK\" },\n",
      "new Character { Char = \"N\", Icao2008 = \"November\", Icao = \"[noʊˈvɛmbɹ̩]\", WikipediaIpa=\"/noʊˈvɛmbər/ noh-VEM-bər[15]\" },\n",
      "new Character { Char = \"O\", Icao2008 = \"Oscar\", Icao = \"[ˈɑskɹ̩]\", WikipediaIpa=\"/ˈɒskɑː/ OS-kah\" },\n",
      "new Character { Char = \"P\", Icao2008 = \"Papa\", Icao = \"[pəˈpɑ]\", WikipediaIpa=\"/pɑːˈpɑː/ pah-PAH\" },\n",
      "new Character { Char = \"Q\", Icao2008 = \"Quebec\", Icao = \"[kɛˈbɛk]\", WikipediaIpa=\"/kɛˈbɛk/ ke-BEK\" },\n",
      "new Character { Char = \"R\", Icao2008 = \"Romeo\", Icao = \"[ˈɹoʊmi.oʊ]\", WikipediaIpa=\"/ˈroʊmiːoʊ/ ROH-mee-oh\" },\n",
      "new Character { Char = \"S\", Icao2008 = \"Sierra\", Icao = \"[siˈɛɾʌ]\", WikipediaIpa=\"/siːˈɛrɑː/ see-ERR-ah\" },\n",
      "new Character { Char = \"T\", Icao2008 = \"Tango\", Icao = \"[ˈtæŋɡoʊ]\", WikipediaIpa=\"/ˈtæŋɡoʊ/ TANG-goh\" },\n",
      "new Character { Char = \"U\", Icao2008 = \"Uniform\", Icao = \"[ˈjunɪ̈fɔ˞m], [ˈunɪ̈fɔ˞m]\", WikipediaIpa=\"/ˈjuːniːfɔːrm/ EW-nee-form or /ˈuːniːfɔːrm/ OO-nee-form\" },\n",
      "new Character { Char = \"V\", Icao2008 = \"Victor\", Icao = \"[ˈvɪktəɹ]\", WikipediaIpa=\"/ˈvɪktɑː/ VIK-tah\" },\n",
      "new Character { Char = \"W\", Icao2008 = \"Whiskey\", Icao = \"[ˈwɪski]\", WikipediaIpa=\"/ˈwɪskiː/ WIS-kee\" },\n",
      "new Character { Char = \"X\", Icao2008 = \"X-ray or Xray\", Icao = \"[ˈɛksɹeɪ]\", WikipediaIpa=\"/ˈɛksreɪ/ EKS-ray or /ˌɛksˈreɪ/ EKS-RAY\" },\n",
      "new Character { Char = \"Y\", Icao2008 = \"Yankee\", Icao = \"[ˈjæŋki]\", WikipediaIpa=\"/ˈjæŋkiː/ YANG-kee\" },\n",
      "new Character { Char = \"Z\", Icao2008 = \"Zulu\", Icao = \"[ˈzulu]\", WikipediaIpa=\"/ˈzuːluː/ ZOO-loo\" },\n",
      "new Character { Char = \"0\", Icao2008 = \"Zero\", Icao = \"nan\", WikipediaIpa=\"/ˈziːroʊ/ ZEE-roh /ˌnɑːˌdɑːˌzeɪˈroʊ/ NAH-DAH-ZAY-ROH\" },\n",
      "new Character { Char = \"1\", Icao2008 = \"One\", Icao = \"nan\", WikipediaIpa=\"/ˈwʌn/ WUN /ˌuːˌnɑːˈwʌn/ OO-NAH-WUN\" },\n",
      "new Character { Char = \"2\", Icao2008 = \"Two\", Icao = \"nan\", WikipediaIpa=\"/ˈtuː/ TOO /ˌbiːˌsoʊˈtuː/ BEE-SOH-TOO\" },\n",
      "new Character { Char = \"3\", Icao2008 = \"Three\", Icao = \"nan\", WikipediaIpa=\"/ˈtriː/ TREE /ˌteɪˌrɑːˈtriː/ TAY-RAH-TREE\" },\n",
      "new Character { Char = \"4\", Icao2008 = \"Four\", Icao = \"nan\", WikipediaIpa=\"/ˈfoʊ.ər/ FOH-ər /ˌkɑːrˌteɪˈfoʊ.ər/ KAR-TAY-FOH-ər\" },\n",
      "new Character { Char = \"5\", Icao2008 = \"Five\", Icao = \"nan\", WikipediaIpa=\"/ˈfaɪf/ FYF[17] /ˌpænˌtɑːˈfaɪv/ PAN-TAH-FYV\" },\n",
      "new Character { Char = \"6\", Icao2008 = \"Six\", Icao = \"nan\", WikipediaIpa=\"/ˈsɪks/ SIKS /ˌsɔːkˌsiːˈsɪks/ SOK-SEE-SIKS\" },\n",
      "new Character { Char = \"7\", Icao2008 = \"Seven\", Icao = \"nan\", WikipediaIpa=\"/ˈsɛvɛn/ SEV-en /ˌseɪˌteɪˈsɛvɛn/ SAY-TAY-SEV-en\" },\n",
      "new Character { Char = \"8\", Icao2008 = \"Eight\", Icao = \"nan\", WikipediaIpa=\"/ˈeɪt/ AYT /ˌɔːkˌtoʊˈeɪt/ OK-TOH-AYT\" },\n",
      "new Character { Char = \"9\", Icao2008 = \"Nine\", Icao = \"nan\", WikipediaIpa=\"/ˈnaɪnər/ NY-nər[18] /ˌnɔːvˌeɪˈnaɪnər/ NOV-AY-NY-nər\" },\n",
      "new Character { Char = \". (decimal point)\", Icao2008 = \"Decimal point\", Icao = \"nan\", WikipediaIpa=\"/ˌdeɪˌsiːˈmæl/ DAY-SEE-MAL\" },\n",
      "new Character { Char = \"100\", Icao2008 = \"Hundred\", Icao = \"nan\", WikipediaIpa=\"/ˈhʌndrɛd/ HUN-dred\" },\n",
      "new Character { Char = \"1000\", Icao2008 = \"Thousand\", Icao = \"nan\", WikipediaIpa=\"/ˌtaʊˈsænd/ TOW-ZEND[19]\" },\n",
      "new Character { Char = \"- (hyphen)\", Icao2008 = \"Dash\", Icao = \"nan\", WikipediaIpa=\"/ˈdæʃ/ DASH\" },\n",
      "new Character { Char = \". (full stop)\", Icao2008 = \"Period\", Icao = \"nan\", WikipediaIpa=\"/ˈstɒp/ STOP\" },\n"
     ]
    }
   ],
   "source": [
    "for char, row in characters.iterrows():\n",
    "    print(\"new Character { Char = \\\"%s\\\", Icao2008 = \\\"%s\\\", Icao = \\\"%s\\\", WikipediaIpa=\\\"%s\\\" },\" % (char, row[0], row[2], row[3]))"
   ]
  },
  {
   "cell_type": "code",
   "execution_count": null,
   "metadata": {
    "collapsed": true
   },
   "outputs": [],
   "source": []
  }
 ],
 "metadata": {
  "kernelspec": {
   "display_name": "Python 3",
   "language": "python",
   "name": "python3"
  },
  "language_info": {
   "codemirror_mode": {
    "name": "ipython",
    "version": 3
   },
   "file_extension": ".py",
   "mimetype": "text/x-python",
   "name": "python",
   "nbconvert_exporter": "python",
   "pygments_lexer": "ipython3",
   "version": "3.6.1"
  }
 },
 "nbformat": 4,
 "nbformat_minor": 2
}
