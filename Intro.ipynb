{
 "cells": [
  {
   "cell_type": "markdown",
   "metadata": {},
   "source": [
    "# Jupyter Notebook App  \n",
    "\n",
    "Aplicación compuesta por dos elementos: un servidor, y un cliente y a través del protocolo HTTP... como una aplicación web tradicional. El cliente es esto que estás viendo en este momento y se accede a él a través de un navegador web.\n",
    "\n",
    "<img src=\"Intro/images/architecture.png\" />\n",
    "\n",
    "### El cliente  \n",
    "\n",
    "Con la Notebook App podemos crear los interesantes *Notebook Documents*, o simplemente *Notebooks*, que son archivos que contienen código (como por ejemplo, código de Python), texto enriquecido (es decir, con cosas como negritas, cursivas, imágenes, links, html...) y otros elementos interactivos como gráficas o simulaciones.\n",
    "\n",
    "Como te podrás imaginar, los *Notebooks* son un lugar ideal para documentar el código, explicar lo que sucede y complementarlo con __matemáticas__ diagramas, gráficas y demás elementos."
   ]
  },
  {
   "cell_type": "markdown",
   "metadata": {},
   "source": [
    "#### Ejemplo: \n",
    "Podrías tener algo como esto (una explicación matemática seguida de su implementación en código):\n",
    "\n",
    "**An infinite-state model**. Consider a sequence of $n+1$ messages that arrive over a period of time of length $T$"
   ]
  },
  {
   "cell_type": "code",
   "execution_count": null,
   "metadata": {
    "collapsed": true
   },
   "outputs": [],
   "source": [
    "messages = [1,2,3,5,6,7,9,17]  # n+1 message arrival times\n",
    "gaps = [m2 - m1 for m1, m2 in zip(messages[:-1], messages[1:])]\n",
    "T = sum(gaps)\n",
    "print(T,\":\",gaps)"
   ]
  },
  {
   "cell_type": "markdown",
   "metadata": {},
   "source": [
    "Los *Notebooks* forman parte del componente del cliente de la Notebook App.\n",
    "\n",
    "\n",
    "### El servidor \n",
    "\n",
    "El elemento del servidor en la aplicación es un servidor web que se encarga de ejecutar el código que nosotros introducimos a través del cliente. La forma de hacerlo es a través de los *kernels*, que son procesos que se ejecutan en el servidor en el que está corriendo la app, cada uno de los *Notebooks* tiene un *kernel* asociado el cual estará activo mientras que tu no te deshagas de él. \n",
    "\n",
    "Dependiendo de lo que estés tratando de ejecutar, cada *kernel* consumirá recursos de la computadora en donde se está ejecutando el servidor.\n",
    "\n",
    "#### Pero... why not both?\n",
    "\n",
    "<img src=\"Intro/images/both.gif\" />\n",
    "\n",
    "Puede que te encuentres con que el cliente y el servidor se están ejecutando en la misma computadora, y que no necesitas de conexión a internet para ejecutarlo, esto es muy común y bastante útil puesto que tener el servidor a la mano nos permite usar directamente los archivos de nuestra PC, cosa que usando el navegador web no podríamos hacer.  \n",
    "\n",
    "Una vez que has terminado de jugar *ahem*... trabajar con tu *Notebook* podrías subirlo ahora sí a un servidor más poderoso para que se ejecute más rápido, o si lo colocas en un lugar público (uh, tal vez esto no sea buena idea) esté accesible a través de internet."
   ]
  },
  {
   "cell_type": "markdown",
   "metadata": {
    "collapsed": true
   },
   "source": [
    "## Instalación  \n",
    "\n",
    "Si eres un novato como yo, la forma recomendada de obtener los *Notebooks* es a través de [Anaconda](https://www.anaconda.com/download), anda, ve a instalarlo si es que aún no lo has hecho, puedes dejar todo por default por el momento.  \n",
    "`...`  \n",
    "`...`\n",
    "\n",
    "Suficiente tiempo.\n",
    "\n",
    "Si todo salió bien, verás un ícono como este en tu Menú Inicio o en el Launchpad:\n",
    "\n",
    "<img src=\"Intro/images/navigator.png\" />\n",
    "\n",
    "Al abrir esta aplicación aparecerá un *Dashboard* con diferentes aplicaciones, de las cuales deberás seleccionar y ejecutar Jupyter Notebook:\n",
    "\n",
    "<img src=\"Intro/images/launch.png\" />  \n",
    "\n",
    "Si todo sale bien, se abrirá un navegador con lo que es conocido como el **Dashboard** de Jupyter, que en ciertos aspectos podrías ver como el Finder de Mac o el Explorador de Windows. Por ahora se abrirá en un folder de tu computadora, probablemente sea la carpeta de tu usuario o en tus documentos, pero esto es algo que puedes configurar más adelante.\n",
    "\n",
    "Vamos a crear un nuevo *Notebook*, así que deberás dar click en `Nuevo` o (`New`) y seleccionar Python 3 (o dos dependiendo de tu versión). Y cuando hayas terminado verás algo como esto:"
   ]
  },
  {
   "cell_type": "code",
   "execution_count": null,
   "metadata": {
    "collapsed": true
   },
   "outputs": [],
   "source": []
  },
  {
   "cell_type": "markdown",
   "metadata": {
    "collapsed": true
   },
   "source": [
    "Sí, un cuadro gris llamado celda (`cell`) en el que puedes escribir. Por ahora está en modo código, pero siempre podrás usar el selector de acá arriba para cambiar entre código y texto en Markdown (y también HTML). Seguramente ya tendrán tiempo para jugar con esto más adelante, pero por ahora les voy explicar lo básico de los *Notebooks*.  \n",
    "## Las celdas\n",
    "\n",
    "Un *Notebook* se compone de celdas. Cada celda puede contener código o texto \"enriquecido\": Las celdas de texto aceptan tres tipos de formato: HTML, Markdown y un poco de LaTeX para fórmulas matemáticas. Así mismo, cada celda tiene cuatro modos diferentes: **reposo**, **edición**, **ejecución** y **ejecutadas**. Sí, inclusive las celdas de texto tienen que ser ejecutadas. Para ejecutar las celdas usualmente se usa la combinación de teclas <kbd>SHIFT</kbd> + <kbd>ENTER</kbd>.\n",
    "\n",
    "\n",
    "Las siguiente celda contiene cada una de las tres cosas (puedes ver el \"código fuente\" de cada celda si le das doble click o si le presiones enter mientras está seleccionada):"
   ]
  },
  {
   "cell_type": "markdown",
   "metadata": {},
   "source": [
    "### Esto es Markdown:\n",
    "\n",
    "Emphasis, aka italics, with *asterisks* or _underscores_.\n",
    "\n",
    "Strong emphasis, aka bold, with **asterisks** or __underscores__.\n",
    "\n",
    "Combined emphasis with **asterisks and _underscores_**.\n",
    "\n",
    "Strikethrough uses two tildes. ~~Scratch this.~~  \n",
    "\n",
    "Puedes ver una guía rápida de lo que te ofrece Markdown [aquí](https://github.github.com/gfm/).\n",
    "\n",
    "<h3>Esto es HTML:</h3>\n",
    "\n",
    "Emphasis, aka italics, with <code>&lt;i&gt;&lt;/i&gt;</code>, ehhmhmhm... <i>itallics</i>.\n",
    "\n",
    "Strong emphasis, aka bold, with <code>&lt;b&gt;&lt;/b&gt;</code>, ehhmhmhm... <b>bold</b>.\n",
    "\n",
    "Combined emphasis with <code>&lt;i&gt;&lt;/i&gt;</code> and <code>&lt;b&gt;&lt;/b&gt;</code>, ehhmhmhm... <i><b>both</b></i>.\n",
    "\n",
    "Strikethrough uses <code>&lt;del&gt;&lt;/del&gt;</code>, <del>like this</del>.\n",
    "\n",
    "\n",
    "Puedes tener cosas sencillas como esta: $a = 10$, o un poco más complicadas como esto: $y = \\frac{1}{{\\sqrt {2\\pi } }}e^{ - \\frac{{z^2 }}{2}}  = .3989e^{ - 5z^2 }$ o, ¿quieres que una fórmula resalte realmente? la puedes poner así:\n",
    "\n",
    "$$y = \\frac{1}{{\\sqrt {2\\pi } }}e^{ - \\frac{{z^2 }}{2}}  = .3989e^{ - 5z^2 }$$\n",
    "\n"
   ]
  },
  {
   "cell_type": "code",
   "execution_count": null,
   "metadata": {
    "collapsed": true
   },
   "outputs": [],
   "source": [
    "# Y esto es código\n",
    "value = \"¡Buen día señor sol!\"\n",
    "a = 2\n",
    "b = 3"
   ]
  },
  {
   "cell_type": "markdown",
   "metadata": {},
   "source": [
    "La verdad es que no hay mucho que decir sobre las celdas de texto, solo que son muy, muy útiles.\n",
    "\n",
    "### Celdas de código\n",
    "\n",
    "Puedes identificar las celdas de código porque tienen un `In [1]:` al lado, en donde el número es el órden en el que se ejecutó dicha celda. Cada vez que una celda está pendiente de concluir su ejecución aparecerá un `*` en donde debería estar el número. Esto te indicará que hay algo pendiente de terminar de ejecutarse.  \n",
    "\n",
    "Cada *Notebook* está asociado con un *Kernel*, y todo lo que se define en una celda está disponible para todas las demás. Por ejemplo, en la celda anterior a esta declaramos tres variables: `a`, `b` y `value`. En la celda siguiente podemos hacer uso de ellas sin problema:"
   ]
  },
  {
   "cell_type": "code",
   "execution_count": null,
   "metadata": {},
   "outputs": [],
   "source": [
    "c = a + b\n",
    "print(value)\n",
    "print(c)"
   ]
  },
  {
   "cell_type": "code",
   "execution_count": null,
   "metadata": {
    "collapsed": true
   },
   "outputs": [],
   "source": []
  },
  {
   "cell_type": "markdown",
   "metadata": {},
   "source": [
    "También, como ya te habrás dado cuenta, cuando imprimimos algo a \"consola\", los *Notebooks* lo presentan justo debajo de la celda en la que se llama ala función `print`.\n"
   ]
  },
  {
   "cell_type": "markdown",
   "metadata": {},
   "source": [
    "También, como ya te habrás dado cuenta, cuando imprimimos algo a \"consola\", los *Notebooks* lo presentan justo debajo de la celda en la que se llama ala función `print`.\n"
   ]
  },
  {
   "cell_type": "markdown",
   "metadata": {},
   "source": [
    "### Toolbar\n",
    "\n",
    "<img src=\"Intro/images/toolbar.png\" />  \n",
    "\n",
    "Las primeras opciones (de izquierda a derecha) son bastante sencillas de entender.\n",
    "\n",
    " - **Guardar** _Notebook_  \n",
    " - **Agregar** nueva celda\n",
    " - **Cortar** celda\n",
    " - **Copiar** celda\n",
    " - **Pegar** celda\n",
    " - Mover celda **hacia arriba**\n",
    " - Mover celda **hacia abajo**  \n",
    "\n",
    "Las siguientes tres requieren de un poco más de explicación  \n",
    "\n",
    " - **Ejecutar** celda (y seleccionar la siguiente). Que es como presionar <kbd>SHIFT</kbd> + <kbd>ENTER</kbd>, así que la verdad es que creo que será muy raro que presiones este botón muy seguido.  \n",
    " - **Interrumpir _kernel_**. Digamos que estás ejecutando una celda y te das cuenta de que hay un error en ella y que no vale la pena que se siga ejecutando. Este el caso de uso perfecto para este botón. Interrumpir *kernel* únicamente detendrá la ejecución de las tareas pendientes, el resto del kernel (y todo lo que hayamos definido antes) seguirá vivo.  \n",
    " - **Reiniciar _kernel_**. Hay ocasiones en las que tal vez necesitemos comenzar desde cero con el *notebook*, este es el botón que podemos usar para esto. Reiniciar el _kernel_ removerá de memoria todo lo que se ejecutó previamente, así que tendrás que volver a ejecutar todo de nuevo. \n",
    " \n",
    "Y por último \n",
    "\n",
    " - Cambiar el tipo de celda.  \n",
    " - Abrir el catálogo de comandos. Un botón bastante útil para descubrir los comandos que tenemos disponibles."
   ]
  },
  {
   "cell_type": "markdown",
   "metadata": {
    "collapsed": true
   },
   "source": [
    "### Volviéndo al código  \n",
    "\n",
    "Pero no creas que solamente es para códigos \"sencillos\", además de variables también podemos definir funciones y clases:"
   ]
  },
  {
   "cell_type": "code",
   "execution_count": null,
   "metadata": {
    "collapsed": true
   },
   "outputs": [],
   "source": [
    "def suma(a, b):\n",
    "    print(\"Sumando\", a, \"+\", b)\n",
    "    return a + b"
   ]
  },
  {
   "cell_type": "code",
   "execution_count": null,
   "metadata": {},
   "outputs": [],
   "source": [
    "resultado = suma(10, 34)\n",
    "print(resultado)"
   ]
  },
  {
   "cell_type": "code",
   "execution_count": null,
   "metadata": {
    "collapsed": true
   },
   "outputs": [],
   "source": [
    "class Pokemon:\n",
    "    def __init__(self, nombre, level):\n",
    "        self.nombre = nombre\n",
    "        self.level = level"
   ]
  },
  {
   "cell_type": "code",
   "execution_count": null,
   "metadata": {},
   "outputs": [],
   "source": [
    "pokachu = Pokemon(\"Pokachu\", 10)\n",
    "print(pokachu.nombre, pokachu.level)"
   ]
  },
  {
   "cell_type": "markdown",
   "metadata": {},
   "source": [
    "### Leyendo y escribiendo archivos  \n",
    "\n",
    "Con los *Notebooks* podemos leer y escribir archivos, solamente recuerda: los archivos deben existir en el lado del servidor y no del cliente. En este caso, este *Notebook* tiene varios archivos en una ruta relativa `Intro/...`. Y en específico hay un archivo llamado `hello.txt`.  \n",
    "\n",
    "Para leerlo basta con hacer lo siguiente:"
   ]
  },
  {
   "cell_type": "code",
   "execution_count": null,
   "metadata": {},
   "outputs": [],
   "source": [
    "with open('Intro/source/hello.txt', 'r') as hello:\n",
    "    for l in hello.readlines():\n",
    "        print(l)"
   ]
  },
  {
   "cell_type": "markdown",
   "metadata": {},
   "source": [
    "Mientras que para escribir un archivo es suficiente hacer esto:"
   ]
  },
  {
   "cell_type": "code",
   "execution_count": null,
   "metadata": {
    "collapsed": true
   },
   "outputs": [],
   "source": [
    "with open('Intro/source/salida.txt', 'w') as salida:\n",
    "    for i in range(10):\n",
    "        salida.write((\"#\" * i) + \"\\n\")"
   ]
  },
  {
   "cell_type": "markdown",
   "metadata": {},
   "source": [
    "### Importando código  \n",
    "\n",
    "Además de todo, también podemos importar código, ya sea de algún módulo que venga ya dentro de Python, alguno que hayamos instalado con `pip` o directamente desde algún archivo de código fuente:"
   ]
  },
  {
   "cell_type": "code",
   "execution_count": null,
   "metadata": {
    "collapsed": true
   },
   "outputs": [],
   "source": [
    "# Este viene con Python\n",
    "import os\n",
    "# Usa 'pip install requests' para instalar requests\n",
    "import json, requests\n",
    "# Esta es una clase dentro de un archivo local\n",
    "from Intro.source.location import Location"
   ]
  },
  {
   "cell_type": "code",
   "execution_count": null,
   "metadata": {},
   "outputs": [],
   "source": [
    "print(\"Contenido de Intro/source:\")\n",
    "for filename in os.listdir('Intro/source'):\n",
    "    print(filename)"
   ]
  },
  {
   "cell_type": "code",
   "execution_count": null,
   "metadata": {
    "collapsed": true
   },
   "outputs": [],
   "source": [
    "resp = requests.get('http://pokeapi.co/api/v2/location/154')\n",
    "data = json.loads(resp.text)"
   ]
  },
  {
   "cell_type": "code",
   "execution_count": null,
   "metadata": {},
   "outputs": [],
   "source": [
    "viridianCity = Location(data[\"names\"][0][\"name\"], data[\"region\"][\"name\"])\n",
    "print(viridianCity.name + \", \" + viridianCity.region)"
   ]
  },
  {
   "cell_type": "markdown",
   "metadata": {},
   "source": [
    "Acá hay [una lista](https://github.com/jupyter/jupyter/wiki/A-gallery-of-interesting-Jupyter-Notebooks) muy completa con ejemplos de _Notebooks_, tan solo para que veas todo el poder que estos tienen. Te invito a que los sigas usando y te diviertas un buen rato con ellos.\n",
    "\n",
    "Y pues bien, por el momento es todo, si quieres saber más házmelo saber a [@io_exception](https://twitter.com/io_exception) o a [feregrino@thatcsharpguy.com](malito:feregrino@thatcsharpguy.com)"
   ]
  },
  {
   "cell_type": "code",
   "execution_count": null,
   "metadata": {
    "collapsed": true
   },
   "outputs": [],
   "source": []
  }
 ],
 "metadata": {
  "kernelspec": {
   "display_name": "Python 3",
   "language": "python",
   "name": "python3"
  },
  "language_info": {
   "codemirror_mode": {
    "name": "ipython",
    "version": 3
   },
   "file_extension": ".py",
   "mimetype": "text/x-python",
   "name": "python",
   "nbconvert_exporter": "python",
   "pygments_lexer": "ipython3",
   "version": "3.6.2"
  }
 },
 "nbformat": 4,
 "nbformat_minor": 2
}
