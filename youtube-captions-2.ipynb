{
 "cells": [
  {
   "cell_type": "code",
   "execution_count": null,
   "metadata": {
    "collapsed": true
   },
   "outputs": [],
   "source": [
    "import os\n",
    "from os.path import join\n",
    "import requests\n",
    "import json\n",
    "import urllib\n",
    "from bs4 import BeautifulSoup\n",
    "from urllib.parse import urlencode\n",
    "from slugify import slugify\n",
    "import nltk\n",
    "from nltk.tokenize import word_tokenize, sent_tokenize\n",
    "from pytube import YouTube"
   ]
  },
  {
   "cell_type": "code",
   "execution_count": null,
   "metadata": {
    "collapsed": true
   },
   "outputs": [],
   "source": [
    "song = \"\"\"La policía te está extorsionando (dinero)\n",
    "Pero ellos viven de lo que tú estás pagando\n",
    "Y si te tratan como a un delincuente (ladrón)\n",
    "No es tu culpa, dale gracias al regente\n",
    "\n",
    "Hay que arrancar el problema de raíz\n",
    "Y cambiar al gobierno de nuestro país\n",
    "A la gente que está en la burocracia\n",
    "A esa gente que le gustan las migajas\n",
    "\n",
    "Yo por eso me quejo y me quejo\n",
    "Porque aquí es donde vivo\n",
    "Y yo ya no soy un pendejo\n",
    "\n",
    "Que nos guachan los puestos del gobierno\n",
    "Hay personas que se están enriqueciendo\n",
    "Gente que vive en la pobreza\n",
    "Nadie hace nada\n",
    "Porque a nadie le interesa\n",
    "\n",
    "Es la gente de arriba te detesta\n",
    "Hay más gente que quiere\n",
    "Que caigan sus cabezas\n",
    "Si le das más poder al poder\n",
    "Más duro te van a venir a coger\"\"\""
   ]
  },
  {
   "cell_type": "code",
   "execution_count": null,
   "metadata": {
    "collapsed": true
   },
   "outputs": [],
   "source": [
    "from nltk.corpus import stopwords\n",
    "from string import punctuation\n",
    "spanish_stopwords = set(list(punctuation)) "
   ]
  },
  {
   "cell_type": "code",
   "execution_count": null,
   "metadata": {},
   "outputs": [],
   "source": [
    "# Cleaning song\n",
    "song_wo_stopwords = [word.lower() for word in word_tokenize(song) if word.lower() not in spanish_stopwords]\n",
    "print(song_wo_stopwords)"
   ]
  },
  {
   "cell_type": "code",
   "execution_count": null,
   "metadata": {
    "collapsed": true
   },
   "outputs": [],
   "source": [
    "# Load words:\n",
    "directories = ['amlo', 'presidencia', 'epn']\n",
    "candidates = {}\n",
    "for w in song_wo_stopwords:\n",
    "    candidates[w] = []\n",
    "for d in directories:\n",
    "    directory = join('youtube-captions', d)\n",
    "    for file in os.listdir(directory):\n",
    "        if file.endswith(\"json\"):\n",
    "            with open(join(directory, file), 'r') as captions_file:\n",
    "                video = json.load(captions_file)\n",
    "                captions = video['captions_parsed']\n",
    "                for caption in captions:\n",
    "                    if caption['content'] == None:\n",
    "                        continue\n",
    "                    tokenized = word_tokenize(caption['content'])\n",
    "                    for w1 in tokenized:\n",
    "                        if w1.lower() in candidates:\n",
    "                            caption['id'] = video['id']\n",
    "                            caption['count'] = len(tokenized)\n",
    "                            candidates[w1.lower()].append(caption)"
   ]
  },
  {
   "cell_type": "code",
   "execution_count": null,
   "metadata": {
    "scrolled": false
   },
   "outputs": [],
   "source": [
    "import math\n",
    "\n",
    "video_url = \"http://youtube.com/watch?v=\"\n",
    "for candidate_key in candidates:\n",
    "    print(candidate_key)\n",
    "    if len(candidates[candidate_key]) > 0:\n",
    "        candidates[candidate_key].sort(key=lambda x: x['count'], reverse=True)\n",
    "        for text in candidates[candidate_key][:3]:\n",
    "            seconds = float(text['start']) / 60\n",
    "            ceil_seconds = math.floor(seconds)\n",
    "            minutes = ceil_seconds\n",
    "            seconds = round((seconds - ceil_seconds) * 60)\n",
    "            print('\\t' + str(text['count']), video_url +  text['id'] + \"&t=\" + str(minutes) +\"m\" + str(seconds)+ \"s\")"
   ]
  },
  {
   "cell_type": "code",
   "execution_count": null,
   "metadata": {
    "collapsed": true
   },
   "outputs": [],
   "source": []
  }
 ],
 "metadata": {
  "kernelspec": {
   "display_name": "Python 3",
   "language": "python",
   "name": "python3"
  },
  "language_info": {
   "codemirror_mode": {
    "name": "ipython",
    "version": 3
   },
   "file_extension": ".py",
   "mimetype": "text/x-python",
   "name": "python",
   "nbconvert_exporter": "python",
   "pygments_lexer": "ipython3",
   "version": "3.6.2"
  }
 },
 "nbformat": 4,
 "nbformat_minor": 2
}
